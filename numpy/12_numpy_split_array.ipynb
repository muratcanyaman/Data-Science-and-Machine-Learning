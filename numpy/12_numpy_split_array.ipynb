{
 "cells": [
  {
   "cell_type": "markdown",
   "id": "fdc3dd5c-9723-4719-ad5e-fad605d1d8e1",
   "metadata": {},
   "source": [
    "## NumPy'da Dizi Bölme 🚀"
   ]
  },
  {
   "cell_type": "markdown",
   "id": "eca14a4b-2e14-4ef7-967d-950f02a9f72e",
   "metadata": {},
   "source": [
    "ℹ️ *Dilimleme,birleştirme işleminin tersidir.*<br>\n",
    "ℹ️ *Birleştirme işleminde birden fazla diziden tek bir dizi elde edilir.Bölme işleminde tek bir diziden birden fazla alt dizi elde edilir.*<br>\n",
    "ℹ️ *Bölme işlemi için NumPy'da tanımlı olan **array_split()** fonksiyonu kullanılır.Argüman olarak bölmek istediğimiz dizi ve bölme sayısı verilir.*"
   ]
  },
  {
   "cell_type": "code",
   "execution_count": 1,
   "id": "72d061ec-2019-4c14-9b07-b622cf1b9824",
   "metadata": {},
   "outputs": [
    {
     "name": "stdout",
     "output_type": "stream",
     "text": [
      "[array([1, 2]), array([3, 4]), array([5, 6])]\n"
     ]
    }
   ],
   "source": [
    "import numpy as np\n",
    "arr = np.array([1,2,3,4,5,6])\n",
    "new_arr = np.array_split(arr,3)\n",
    "print(new_arr)"
   ]
  },
  {
   "cell_type": "markdown",
   "id": "0c01ff95-4b3a-4410-a7fc-718adf8dbd2c",
   "metadata": {},
   "source": [
    "⚠️ *Geriye döndürülen değer içerisinde 3 tane dizi olan bir listedir.*"
   ]
  },
  {
   "cell_type": "markdown",
   "id": "4a9ca2aa-0bb1-431e-9816-c690bc2307de",
   "metadata": {},
   "source": [
    "📌 *Eğer dizi ihtiyaç duyulandan daha az elemana sahipse,dizi bölümleme işlemi dizinin sonundan itibaren yapılacaktır.*"
   ]
  },
  {
   "cell_type": "code",
   "execution_count": 2,
   "id": "85c8e969-5b27-40e8-96ed-7e46e686120e",
   "metadata": {},
   "outputs": [
    {
     "name": "stdout",
     "output_type": "stream",
     "text": [
      "[array([1, 2]), array([3, 4]), array([5]), array([6])]\n"
     ]
    }
   ],
   "source": [
    "#Diziyi 4'e bölme işlemi uygulayalım\n",
    "import numpy as np\n",
    "arr = np.array([1,2,3,4,5,6])\n",
    "new_arr = np.array_split(arr,4)\n",
    "print(new_arr)"
   ]
  },
  {
   "cell_type": "markdown",
   "id": "22f9a8b6-23e1-4d34-9922-1604680b26eb",
   "metadata": {},
   "source": [
    "📌 *Aynı zamanda **split()** metoduna da sahibiz fakat yukarıdaki örnekte olduğu gibi kaynak dizide gerekenden daha az eleman olduğu zaman elemanları ayarlayamaz ve alt dizilere bölemez.**array_split()** beklendiği gibi çalışır fakat **split()** bu işlemde başarısız olabilir.*"
   ]
  },
  {
   "cell_type": "markdown",
   "id": "8e6aba41-f7f1-4225-84ec-385634099fbe",
   "metadata": {},
   "source": [
    "## Dizilere Bölme 🧠"
   ]
  },
  {
   "cell_type": "markdown",
   "id": "d968b6e1-9f63-4b3a-bcd4-a65dae80c2dd",
   "metadata": {},
   "source": [
    "ℹ️ ***array_split()** fonksiyonunun geri döndürdüğü değer içerisinde bölme sonucu elde ettiğimiz dizileri içeren bir dizidir.*<br>\n",
    "ℹ️ *Eğer bir diziyi 3 alt diziye bölerseniz,elde edeceğiniz dizi nesnesinin elemanlarına yani böldüğünüz dizilere indeks ile erişmeniz mümkündür.*<br>"
   ]
  },
  {
   "cell_type": "code",
   "execution_count": 4,
   "id": "3b114838-3354-4f87-822e-c8fb5d5d3067",
   "metadata": {},
   "outputs": [
    {
     "name": "stdout",
     "output_type": "stream",
     "text": [
      "[1 2]\n",
      "[3 4]\n",
      "[5 6]\n"
     ]
    }
   ],
   "source": [
    "# Bölünen diziye erişim\n",
    "import numpy as np\n",
    "arr = np.array([1,2,3,4,5,6])\n",
    "new_arr = np.array_split(arr,3)\n",
    "print(new_arr[0])\n",
    "print(new_arr[1])\n",
    "print(new_arr[2])"
   ]
  },
  {
   "cell_type": "markdown",
   "id": "67493b58-3d96-42cd-aa27-1833825cbe9c",
   "metadata": {},
   "source": [
    "## 2 Boyutlu Dizilerde Bölme 🧠"
   ]
  },
  {
   "cell_type": "markdown",
   "id": "bf745446-4359-49f6-8b99-9e3c7071f737",
   "metadata": {},
   "source": [
    "ℹ️ *Değişen birşey yok,bölmek istediğimiz 2 boyutlu diziyi ve kaça böleceğimiz bilgilerini **array_split()** fonksiyonuna argüman olarak giriyoruz.*"
   ]
  },
  {
   "cell_type": "code",
   "execution_count": 7,
   "id": "99bc2e4a-5310-4758-a66f-5cd5c7fa480b",
   "metadata": {},
   "outputs": [
    {
     "name": "stdout",
     "output_type": "stream",
     "text": [
      "[array([[1, 2],\n",
      "       [3, 4]]), array([[5, 6],\n",
      "       [7, 8]]), array([[ 9, 10],\n",
      "       [11, 12]])]\n"
     ]
    }
   ],
   "source": [
    "# 2 boyutlu diziyi 2 boyutlu dizilere bölelim\n",
    "import numpy as np\n",
    "arr = np.array([[1,2],[3,4],[5,6],[7,8],[9,10],[11,12]])\n",
    "new_arr = np.array_split(arr,3)\n",
    "print(new_arr)"
   ]
  },
  {
   "cell_type": "markdown",
   "id": "365d4017-bda5-45f6-ba28-183c982c2766",
   "metadata": {},
   "source": [
    "ℹ️ *Yukarıdaki örnekte 3 tane 2 boyutlu dizi içeren bir listeyi geri dönüş değeri olarak aldık.*"
   ]
  },
  {
   "cell_type": "markdown",
   "id": "443e0875-1994-4d36-ba06-f1f29242a8f4",
   "metadata": {},
   "source": [
    "ℹ️ *Bir örnek daha yapalım.Bu sefer elde edeceğimiz çıktı her biri 3 elemanlı 3 tane dizi içeren bir liste olsun:*"
   ]
  },
  {
   "cell_type": "code",
   "execution_count": 11,
   "id": "cdd683b3-82bc-42c1-9eef-c6253f47e924",
   "metadata": {},
   "outputs": [
    {
     "name": "stdout",
     "output_type": "stream",
     "text": [
      "[array([[1, 2, 3],\n",
      "       [4, 5, 6]]), array([[ 7,  8,  9],\n",
      "       [10, 11, 12]]), array([[13, 14, 15],\n",
      "       [16, 17, 18]])]\n"
     ]
    }
   ],
   "source": [
    "import numpy as np\n",
    "arr = np.array([[1,2,3],[4,5,6],[7,8,9],[10,11,12],[13,14,15],[16,17,18]])\n",
    "new_arr = np.array_split(arr,3)\n",
    "print(new_arr)"
   ]
  },
  {
   "cell_type": "markdown",
   "id": "0b79f253-1f4f-4ffe-bda6-6e70c7ba7320",
   "metadata": {},
   "source": [
    "📌 *Bölme işlemini hangi eksen üzerinde yapmak istediğimizi de belirtebiliriz.Mesela aşağıdaki örnekte çıktı olarak 3 tane 2 boyutlu dizi alıyoruz.Fakat bu diziler sütun boyunca bölünmüştür(axis = 1).*"
   ]
  },
  {
   "cell_type": "code",
   "execution_count": 10,
   "id": "22c096c5-dfcf-46aa-b3fe-d0e63fad4a5f",
   "metadata": {},
   "outputs": [
    {
     "name": "stdout",
     "output_type": "stream",
     "text": [
      "[array([[ 1],\n",
      "       [ 4],\n",
      "       [ 7],\n",
      "       [10],\n",
      "       [13],\n",
      "       [16]]), array([[ 2],\n",
      "       [ 5],\n",
      "       [ 8],\n",
      "       [11],\n",
      "       [14],\n",
      "       [17]]), array([[ 3],\n",
      "       [ 6],\n",
      "       [ 9],\n",
      "       [12],\n",
      "       [15],\n",
      "       [18]])]\n"
     ]
    }
   ],
   "source": [
    "import numpy as np\n",
    "arr = np.array([[1,2,3],[4,5,6],[7,8,9],[10,11,12],[13,14,15],[16,17,18]])\n",
    "new_arr = np.array_split(arr,3,axis = 1)\n",
    "print(new_arr)"
   ]
  },
  {
   "cell_type": "markdown",
   "id": "79b6b004-e1bd-4887-9fd8-cffecebb104c",
   "metadata": {},
   "source": [
    "📌 *Başka bir alternatif olarak **hsplit()** ve **hstack()** fonksiyonları da mevcuttur.*"
   ]
  },
  {
   "cell_type": "code",
   "execution_count": 13,
   "id": "33427625-347c-4bfd-93c8-babb105f8a0e",
   "metadata": {},
   "outputs": [
    {
     "name": "stdout",
     "output_type": "stream",
     "text": [
      "[array([[ 1],\n",
      "       [ 4],\n",
      "       [ 7],\n",
      "       [10],\n",
      "       [13],\n",
      "       [16]]), array([[ 2],\n",
      "       [ 5],\n",
      "       [ 8],\n",
      "       [11],\n",
      "       [14],\n",
      "       [17]]), array([[ 3],\n",
      "       [ 6],\n",
      "       [ 9],\n",
      "       [12],\n",
      "       [15],\n",
      "       [18]])]\n"
     ]
    }
   ],
   "source": [
    "# hsplit() metodunu kullanarak diziyi sütun boyunca 3 alt diziye bölelim:\n",
    "import numpy as np\n",
    "arr = np.array([[1,2,3],[4,5,6],[7,8,9],[10,11,12],[13,14,15],[16,17,18]])\n",
    "new_arr = np.hsplit(arr,3)\n",
    "print(new_arr)"
   ]
  },
  {
   "cell_type": "markdown",
   "id": "1a26d0f6-2c73-4feb-a7aa-f6ed6007a6b5",
   "metadata": {},
   "source": [
    "📌 ***vstack()** ve **dstack()** fonksiyonlarına alternatif olarak **vsplit()** ve **dsplit()** fonksiyonları mevcuttur.*"
   ]
  }
 ],
 "metadata": {
  "kernelspec": {
   "display_name": "Python 3 (ipykernel)",
   "language": "python",
   "name": "python3"
  },
  "language_info": {
   "codemirror_mode": {
    "name": "ipython",
    "version": 3
   },
   "file_extension": ".py",
   "mimetype": "text/x-python",
   "name": "python",
   "nbconvert_exporter": "python",
   "pygments_lexer": "ipython3",
   "version": "3.13.5"
  }
 },
 "nbformat": 4,
 "nbformat_minor": 5
}
