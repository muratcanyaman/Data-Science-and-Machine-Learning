{
 "cells": [
  {
   "cell_type": "markdown",
   "id": "ffd7238e-80ed-4ca7-961a-d309c6bc0e73",
   "metadata": {},
   "source": [
    "# NumPy Dizilerinde Arama 🚀"
   ]
  },
  {
   "cell_type": "markdown",
   "id": "4ddb25da-4ed5-4a04-8b5a-6e778d74ffe9",
   "metadata": {},
   "source": [
    "ℹ️ *NumPy dizilerinde belirli bir değeri arayabilirsiniz.Geriye o değerle eşleşen indeks değeri döndürülür.*<br>\n",
    "ℹ️ *Bir dizide arama işlemi gerçekleştirebilmek için **where()** fonksiyonu kullanılır.*"
   ]
  },
  {
   "cell_type": "markdown",
   "id": "4b136cec-29c3-4827-a180-7f5ad85bb451",
   "metadata": {},
   "source": [
    "*Dizi içerisinde 4 değerini içeren indeks değerini döndürelim:*"
   ]
  },
  {
   "cell_type": "code",
   "execution_count": 15,
   "id": "ab4ef5e2-9bc8-4c3b-a673-5cfbb2134f96",
   "metadata": {},
   "outputs": [
    {
     "name": "stdout",
     "output_type": "stream",
     "text": [
      "(array([ 3,  4,  8, 10]),)\n"
     ]
    }
   ],
   "source": [
    "import numpy as np\n",
    "arr = np.array([1,2,3,4,4,5,6,7,4,9,4,11,12,9])\n",
    "\n",
    "a = np.where(arr == 4)\n",
    "print(a)"
   ]
  },
  {
   "cell_type": "markdown",
   "id": "386d9c32-3d09-4de2-81f9-09f60211d3da",
   "metadata": {},
   "source": [
    "*Yukarıdaki çıktının içerisinde array olan bir tuple nesnesi olduğunu görüyoruz.Çıktıya göre dizinin 3,4,8 ve 10.'uncu indekslerinde 4 değeri var.*"
   ]
  },
  {
   "cell_type": "markdown",
   "id": "a9a20b51-1ef5-469b-9b6f-7fbf9b351d99",
   "metadata": {},
   "source": [
    "*Çift olan değerlerin indeks bilgilerini döndürelim:*"
   ]
  },
  {
   "cell_type": "code",
   "execution_count": 16,
   "id": "36665f02-7ee1-4df1-9a77-dc2f16309b10",
   "metadata": {},
   "outputs": [
    {
     "name": "stdout",
     "output_type": "stream",
     "text": [
      "(array([ 1,  3,  4,  6,  8, 10, 12]),)\n"
     ]
    }
   ],
   "source": [
    "import numpy as np\n",
    "arr = np.array([1,2,3,4,4,5,6,7,4,9,4,11,12,9])\n",
    "\n",
    "a = np.where(arr % 2 == 0)\n",
    "print(a)"
   ]
  },
  {
   "cell_type": "markdown",
   "id": "b24e2724-8dbd-4a4e-8c82-a4b264eb5def",
   "metadata": {},
   "source": [
    "*Tek olan değerlerin indeks bilgisini döndürelim:*"
   ]
  },
  {
   "cell_type": "code",
   "execution_count": 17,
   "id": "91b13715-11be-452f-bf92-367b282b96f3",
   "metadata": {},
   "outputs": [
    {
     "name": "stdout",
     "output_type": "stream",
     "text": [
      "(array([ 0,  2,  5,  7,  9, 11, 13]),)\n"
     ]
    }
   ],
   "source": [
    "import numpy as np\n",
    "arr = np.array([1,2,3,4,4,5,6,7,4,9,4,11,12,9])\n",
    "\n",
    "a = np.where(arr % 2 != 0)\n",
    "print(a)"
   ]
  },
  {
   "cell_type": "markdown",
   "id": "9709ba11-9f18-41de-aeb1-90bb75419305",
   "metadata": {},
   "source": [
    "## Search Sorted 🧠"
   ]
  },
  {
   "cell_type": "markdown",
   "id": "a665be75-d17a-4909-904d-9fd545a829a0",
   "metadata": {},
   "source": [
    "ℹ️ ***searchsorted()** adlı bir fonksiyon var ve bu fonksiyon şu işlevi görüyor: binary search(ikili arama yapan) yapıyor ve arama sırasını korumak için eklenecek değerin indeks bilgisini döndürüyor.*<br>\n",
    "ℹ️ *Yani elimizde sıralı bir dizi var,ekleyeceğimiz eleman öyle bir eleman olmalı ki dizinin sırasını bozmasın.Buna göre bu elemanın eklenmesi gereken yer bilgisini yani indeks bilgisini bize dönderiyor.*"
   ]
  },
  {
   "cell_type": "code",
   "execution_count": 18,
   "id": "68b9d7d6-96a7-434a-a938-6d507be2c2c9",
   "metadata": {},
   "outputs": [
    {
     "name": "stdout",
     "output_type": "stream",
     "text": [
      "2\n"
     ]
    }
   ],
   "source": [
    "import numpy as np\n",
    "arr = np.array([5,6,7,8,9,10])\n",
    "x = np.searchsorted(arr,7)\n",
    "print(x)"
   ]
  },
  {
   "cell_type": "markdown",
   "id": "1e4e67d6-288a-4403-bd4f-acec68517514",
   "metadata": {},
   "source": [
    "ℹ️*fonksiyonumuz arama işlemine dizinin sol tarafından başlıyor ve 7 değerinin bir sonraki değerden büyük olmadığı ilk indeks değerini dönderiyor.*"
   ]
  },
  {
   "cell_type": "markdown",
   "id": "c629f4cb-230a-478e-a337-35b70846e4e8",
   "metadata": {},
   "source": [
    "*7 değerini 2'nci indeks değerinin yerine kolmalıyız ki sıra bozulmasın([5, 6, 7, 7, 8, 9, 10])*"
   ]
  },
  {
   "cell_type": "markdown",
   "id": "04dd17be-7493-4e3c-814c-90eb273d08e6",
   "metadata": {},
   "source": [
    "## Sağ Taraftan Arama İşlemi🧠"
   ]
  },
  {
   "cell_type": "markdown",
   "id": "a8b1f586-377e-4fb5-85dc-2091d7cbee9d",
   "metadata": {},
   "source": [
    "ℹ️ *Varsayılan olarak fonksiyon en soldaki değeri dönderir.Fakat onun yerine *side = 'right'* parametresini vererek en sağdaki değeri de döndürebiliriz.*"
   ]
  },
  {
   "cell_type": "code",
   "execution_count": 19,
   "id": "6f66c1ca-f2e3-4173-bb3f-018d7b89fd06",
   "metadata": {},
   "outputs": [
    {
     "name": "stdout",
     "output_type": "stream",
     "text": [
      "3\n"
     ]
    }
   ],
   "source": [
    "import numpy as np\n",
    "arr = np.array([5,6,7,8,9,10])\n",
    "x = np.searchsorted(arr,7,side = 'right')\n",
    "print(x)"
   ]
  },
  {
   "cell_type": "markdown",
   "id": "a2f90d1a-87a0-4d6b-85ca-f7e2e2915e0a",
   "metadata": {},
   "source": [
    "ℹ️ *7 değeri sıralama düzenini bozmaması adına indeks değerinin 3 olduğu yere eklenmelidir.*<br>\n",
    "ℹ️ *Fonksiyon arama işlemine sağ taraftan başlıyor ve 7 değerinin bir sonraki değerden küçük olmadığı ilk indeks değerini dönderiyor.*"
   ]
  },
  {
   "cell_type": "markdown",
   "id": "f7d8aa5e-dcce-409c-b7b9-51a7609fc89a",
   "metadata": {},
   "source": [
    "## Çoklu Değerler 🧠"
   ]
  },
  {
   "cell_type": "markdown",
   "id": "3ace469f-f1c8-425e-a7bc-217c661ebfbe",
   "metadata": {},
   "source": [
    "ℹ️ *Birden fazla değer için arama işlemi yaparken argüman olarak bir dizi verebiliriz:*"
   ]
  },
  {
   "cell_type": "code",
   "execution_count": 20,
   "id": "60d46362-9e7c-43cf-bb80-45d210919065",
   "metadata": {},
   "outputs": [
    {
     "name": "stdout",
     "output_type": "stream",
     "text": [
      "[1 2 3]\n"
     ]
    }
   ],
   "source": [
    "import numpy as np\n",
    "arr = np.array([1,3,5,7])\n",
    "x = np.searchsorted(arr,[2,4,6])\n",
    "print(x)"
   ]
  },
  {
   "cell_type": "markdown",
   "id": "c316ea28-6f08-46c8-8c7a-85c189f7b7ad",
   "metadata": {},
   "source": [
    "📌 *Çıktımız [1,2,3].Bu şu anlama geliyor : Ana dizimizde sıralama düzeninin bozulmaması için eklenecek değerlerin olması gereken indeks       değerleri sırayla 1,2,3'üncü indeks değerleri olmalıdır.Yani:*<br>\n",
    "*2 elemanı için indeks değeri arr[1]*<br>\n",
    "*4 elemanı için indeks değeri arr[2]*<br>\n",
    "*6 elemanı için indeks değeri arr[3]*<br>\n",
    "*olmalıdır ki arr dizisi sıralı bir dizi olarak kalsın.*>"
   ]
  }
 ],
 "metadata": {
  "kernelspec": {
   "display_name": "Python 3 (ipykernel)",
   "language": "python",
   "name": "python3"
  },
  "language_info": {
   "codemirror_mode": {
    "name": "ipython",
    "version": 3
   },
   "file_extension": ".py",
   "mimetype": "text/x-python",
   "name": "python",
   "nbconvert_exporter": "python",
   "pygments_lexer": "ipython3",
   "version": "3.13.5"
  }
 },
 "nbformat": 4,
 "nbformat_minor": 5
}
