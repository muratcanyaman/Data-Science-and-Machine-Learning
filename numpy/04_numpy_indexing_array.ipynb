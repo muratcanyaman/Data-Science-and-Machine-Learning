{
 "cells": [
  {
   "cell_type": "markdown",
   "id": "32f294e1-8cb8-46dd-b377-7ed158177cb1",
   "metadata": {},
   "source": [
    "# NumPy Array İndeksleme 🚀\t"
   ]
  },
  {
   "cell_type": "markdown",
   "id": "f2208f85-77db-4442-8bf7-7e2226147c3a",
   "metadata": {},
   "source": [
    "## Dizi Elemanlarına Erişim 🧠\t"
   ]
  },
  {
   "cell_type": "markdown",
   "id": "f4f38ecf-bab5-422a-abbd-c4066e017847",
   "metadata": {},
   "source": [
    "ℹ️ *Dizi indeksleme dizi elemanlarına erişim ile aynı şeydir.*<br>\n",
    "ℹ️ *Bir dizi elemanına o elemanın index değerini referans göstererek erişebilirsiniz.* <br>\n",
    "ℹ️\t*Numpy array'lerinde listelerde olduğu gibi index 0'dan başlar, ki bu ilk elemanın index değeridir.İkinci elemanın index değeri 1,n'inci elemanın index değeri n-1'dir*"
   ]
  },
  {
   "cell_type": "markdown",
   "id": "68e1f112-c708-413e-9413-0fe53f90e589",
   "metadata": {},
   "source": [
    "*Dizinin ilk elemanına erişim:*<br>"
   ]
  },
  {
   "cell_type": "code",
   "execution_count": 2,
   "id": "a7d2d454-eaf4-408c-b7af-c59435017346",
   "metadata": {},
   "outputs": [
    {
     "name": "stdout",
     "output_type": "stream",
     "text": [
      "3\n"
     ]
    }
   ],
   "source": [
    "import numpy as np\n",
    "\n",
    "arr = np.array([3,5,7,8,2,3,6,78,100])\n",
    "print(arr[0])"
   ]
  },
  {
   "cell_type": "markdown",
   "id": "974a3595-3c22-4cec-ae08-a17333a1ccd2",
   "metadata": {},
   "source": [
    "*Dizinin ikinci elemanına erişim:*"
   ]
  },
  {
   "cell_type": "code",
   "execution_count": 3,
   "id": "04ebae27-d294-48d4-b22a-4985d2bf85a8",
   "metadata": {},
   "outputs": [
    {
     "name": "stdout",
     "output_type": "stream",
     "text": [
      "5\n"
     ]
    }
   ],
   "source": [
    "import numpy as np\n",
    "\n",
    "arr = np.array([3,5,7,8,2,3,6,78,100])\n",
    "print(arr[1])"
   ]
  },
  {
   "cell_type": "markdown",
   "id": "86af2b11-37da-4967-a424-d410d881a382",
   "metadata": {},
   "source": [
    "*Dizinin 3 ve 4'üncü elemanlarına erişim:*"
   ]
  },
  {
   "cell_type": "code",
   "execution_count": 5,
   "id": "3dfcd1e9-daa2-4e9f-ae41-2638ac8de80e",
   "metadata": {},
   "outputs": [
    {
     "name": "stdout",
     "output_type": "stream",
     "text": [
      "7 8\n"
     ]
    }
   ],
   "source": [
    "import numpy as np\n",
    "\n",
    "arr = np.array([3,5,7,8,2,3,6,78,100])\n",
    "print(arr[2], arr[3])"
   ]
  },
  {
   "cell_type": "markdown",
   "id": "24e0331f-9fa9-4a52-8c8b-8521d0e842a9",
   "metadata": {},
   "source": [
    "## İki Boyutlu Dizilere Erişim"
   ]
  },
  {
   "cell_type": "markdown",
   "id": "0c045eb3-8f43-4f75-861a-768826cbdfb4",
   "metadata": {},
   "source": [
    "ℹ️ *2 boyutlu dizi elemanlarına erişirken sırayla boyut ve eleman index değerlerini temsil eden virgülle ayrılmış integer değerler kullanırız.*<br>\n",
    "ℹ️\t*2 boyutlu dizileri satır ve sutünlardan oluşan bir tablo gibi düşünün.Boyut satırı temsil ederken,index ise sütunu temsil ediyor*."
   ]
  },
  {
   "cell_type": "markdown",
   "id": "03ddda36-9b3b-47c1-b72b-bdbfec97134e",
   "metadata": {},
   "source": [
    "*iki boyutlu bir dizi oluşturalım.Daha sonra 1'inci satır ve 2'nci sütundaki elemana erişelim:*"
   ]
  },
  {
   "cell_type": "code",
   "execution_count": 11,
   "id": "cc391f2e-dd71-4af4-bb81-48f72cb190d2",
   "metadata": {},
   "outputs": [
    {
     "name": "stdout",
     "output_type": "stream",
     "text": [
      "1'inci satır 2'nci sütun elemanı : 3\n"
     ]
    }
   ],
   "source": [
    "import numpy as np\n",
    "arr = np.array([[1,3,5], [2,4,6]])\n",
    "print( \"1'inci satır 2'nci sütun elemanı : \" + str(arr[0,1]))"
   ]
  },
  {
   "cell_type": "markdown",
   "id": "cd40b62f-29ef-4cd6-911f-5ec1933a7f52",
   "metadata": {},
   "source": [
    "*2'nci satır 5'inci sütun elemanına erişim:*"
   ]
  },
  {
   "cell_type": "code",
   "execution_count": 9,
   "id": "36bb9440-a84d-4b5f-a949-c8684bc69ad6",
   "metadata": {},
   "outputs": [
    {
     "name": "stdout",
     "output_type": "stream",
     "text": [
      "2'nci satır 5'inci sütun elemanı : 10\n"
     ]
    }
   ],
   "source": [
    "import numpy as np\n",
    "arr = np.array([[1,2,3,4,5], [6,7,8,9,10]])\n",
    "print(\"2'nci satır 5'inci sütun elemanı : \" + str(arr[1,4]))"
   ]
  },
  {
   "cell_type": "markdown",
   "id": "717aa4bc-10fb-4dd3-89ef-4b612e3a1d92",
   "metadata": {},
   "source": [
    "## Üç Boyutlu Dizilere Erişim"
   ]
  },
  {
   "cell_type": "markdown",
   "id": "37670490-446a-4d9c-8bd8-e17fb878f72b",
   "metadata": {},
   "source": [
    "ℹ️\t*iki boyutlu dizilerde olduğu gibi erişim için boyut ve eleman index değerlerini temsil eden virgülle ayrılmış integer değerler kullanırız.*<br>"
   ]
  },
  {
   "cell_type": "markdown",
   "id": "18abcf82-c3ee-488f-b5fb-2dd57f2f1892",
   "metadata": {},
   "source": [
    "*1'nci dizinin 2'nci dizisinin 3'üncü elemanına erişim:*"
   ]
  },
  {
   "cell_type": "code",
   "execution_count": 12,
   "id": "b608ad1e-d5fc-46d2-bd22-05f38a49f108",
   "metadata": {},
   "outputs": [
    {
     "name": "stdout",
     "output_type": "stream",
     "text": [
      "1'nci dizinin 2'nci dizisinin 3'üncü elemanı : 6\n"
     ]
    }
   ],
   "source": [
    "import numpy as np\n",
    "arr = np.array([[[1,2,3], [4,5,6]], [[7,8,9], [10,11,12]]])\n",
    "print(\"1'nci dizinin 2'nci dizisinin 3'üncü elemanı : \" + str(arr[0,1,2]))"
   ]
  },
  {
   "cell_type": "markdown",
   "id": "eed08dfb-292b-4a04-87f6-a6393fa4a249",
   "metadata": {},
   "source": [
    "*Hemen detaylı bir şekilde açıklayalım:* 🔥"
   ]
  },
  {
   "cell_type": "markdown",
   "id": "96e20b5b-2391-41f7-b543-6c383fe65b7d",
   "metadata": {},
   "source": [
    "*İlk sayı birinci boyutu temsil ediyor.Bu boyutta iki tane iki boyutlu dizimiz var:*<br>\n",
    "*[[1,2,3], [4,5,6]] ve [[7,8,9], [10,11,12]]*<br>\n",
    "*0'ı seçtiğimiz an ilk diziyi çekiyoruz:*<br>\n",
    "*[[1,2,3], [4,5,6]]*<br>\n",
    "*İkinci sayı içerisinde iki tane dizi içeren ikinci boyutu temsil ediyor:*<br>\n",
    "*[1,2,3] ve [4,5,6]*<br>\n",
    "*Burada 1'nci indexteki elemanı yani 2'nci diziyi seçtik:*<br>\n",
    "*[4,5,6]*<br>\n",
    "*3'üncü sayı 3'üncü boyutu temsil ediyor yani şu değerleri içeriyor:*<br>\n",
    "*4,5 ve 6*<br>\n",
    "*En son olarak 2'nci indeksteki değeri yani 3'üncü elemanı seçiyoruz:*<br>\n",
    "*6*\n",
    "\n"
   ]
  },
  {
   "cell_type": "markdown",
   "id": "0f611a67-82ef-4462-8c47-ea2e5be768a8",
   "metadata": {},
   "source": [
    "## Negatif İndeksleme"
   ]
  },
  {
   "cell_type": "markdown",
   "id": "45ed8202-5248-44f5-9939-4e500becfbf1",
   "metadata": {},
   "source": [
    "ℹ️\t*Dizinin sonundaki elemana erişmek için negatif index değeri kullanırız.*"
   ]
  },
  {
   "cell_type": "markdown",
   "id": "c61bea32-213a-49d9-9e8d-d607f6fe911a",
   "metadata": {},
   "source": [
    "*2'nci boyuttaki en son elemanı yazdıralım:*"
   ]
  },
  {
   "cell_type": "code",
   "execution_count": 14,
   "id": "56d71ed7-81b5-46eb-b9fa-9f615f3eeac3",
   "metadata": {},
   "outputs": [
    {
     "name": "stdout",
     "output_type": "stream",
     "text": [
      "2'nci boyuttaki son eleman : 6\n"
     ]
    }
   ],
   "source": [
    "import numpy as np\n",
    "arr = np.array([[1,2,3], [4,5,6]])\n",
    "print(\"2'nci boyuttaki son eleman : \" + str(arr[1,-1]))"
   ]
  }
 ],
 "metadata": {
  "kernelspec": {
   "display_name": "Python 3 (ipykernel)",
   "language": "python",
   "name": "python3"
  },
  "language_info": {
   "codemirror_mode": {
    "name": "ipython",
    "version": 3
   },
   "file_extension": ".py",
   "mimetype": "text/x-python",
   "name": "python",
   "nbconvert_exporter": "python",
   "pygments_lexer": "ipython3",
   "version": "3.13.5"
  }
 },
 "nbformat": 4,
 "nbformat_minor": 5
}
