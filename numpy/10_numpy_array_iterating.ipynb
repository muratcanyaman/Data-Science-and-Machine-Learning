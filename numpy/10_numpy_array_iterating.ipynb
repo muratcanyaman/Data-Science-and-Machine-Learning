{
 "cells": [
  {
   "cell_type": "markdown",
   "id": "54d95a81-4969-4376-b820-7d28f7d41546",
   "metadata": {},
   "source": [
    "# NumPy Dizi İterasyonu 🚀"
   ]
  },
  {
   "cell_type": "markdown",
   "id": "acc57352-4dfc-4419-9457-10f447bcf97d",
   "metadata": {},
   "source": [
    "ℹ️ *NumPy dizilerinde İterasyon,her bir elemanı tek tek incelemek,gözden geçirmek anlamına gelir.*<br>\n",
    "ℹ️ *Numpy'da çok boyutlu dizilerle çalışırken bunu basit **for** döngüleriyle yapabiliriz.*<br>\n",
    "ℹ️ *Tek boyutlu dizilerde iterasyon yapacaksak her bir elemanı atlamadan geçeceğiz demektir.*"
   ]
  },
  {
   "cell_type": "markdown",
   "id": "d7c640e6-d8b1-46a5-ab87-cce95f02461f",
   "metadata": {},
   "source": [
    "*1 boyutlu dizide iterasyon işlemi:*"
   ]
  },
  {
   "cell_type": "code",
   "execution_count": 9,
   "id": "9cb017ba-5729-4938-b0c1-d408982df81b",
   "metadata": {},
   "outputs": [
    {
     "name": "stdout",
     "output_type": "stream",
     "text": [
      "1\n",
      "2\n",
      "3\n",
      "4\n",
      "5\n",
      "6\n",
      "7\n",
      "8\n",
      "9\n",
      "10\n"
     ]
    }
   ],
   "source": [
    "import numpy as np\n",
    "arr = np.array([1,2,3,4,5,6,7,8,9,10])\n",
    "for i in arr:\n",
    "    print(i)"
   ]
  },
  {
   "cell_type": "markdown",
   "id": "2ed0e988-aeb0-4cb6-9586-dbfdec273b48",
   "metadata": {},
   "source": [
    "## 2 Boyutlu Dizilerde İterasyon 🧠"
   ]
  },
  {
   "cell_type": "markdown",
   "id": "98e82721-d916-4aca-8e54-935f974b12cc",
   "metadata": {},
   "source": [
    "ℹ️ *İki boyutlu dizilerde her bir satırdaki her bir elemanı tek tek gezeriz:*"
   ]
  },
  {
   "cell_type": "code",
   "execution_count": 10,
   "id": "24d6bb8b-2f3b-4f84-9bdc-4216ad20d921",
   "metadata": {},
   "outputs": [
    {
     "name": "stdout",
     "output_type": "stream",
     "text": [
      "[1 2 3]\n",
      "[4 5 6]\n"
     ]
    }
   ],
   "source": [
    "import numpy as np\n",
    "arr = np.array([[1,2,3], [4,5,6]])\n",
    "for i in arr:\n",
    "    print(i)"
   ]
  },
  {
   "cell_type": "markdown",
   "id": "80ff1ad1-f47c-4cc6-a695-dbde76ca7a3a",
   "metadata": {},
   "source": [
    "⚠️ *n boyutlu bir dizide iterasyon yaparken n-1'inci boyuta kadar iterasyon işlemi yaparız.*"
   ]
  },
  {
   "cell_type": "markdown",
   "id": "b0fc94b8-b67b-420a-aae9-5e75277346c3",
   "metadata": {},
   "source": [
    "ℹ️ *Asıl değerleri,skalerleri döndürmek için her bir boyut içerisindeki diziyi gezinmemiz gerekir:*"
   ]
  },
  {
   "cell_type": "code",
   "execution_count": 11,
   "id": "88c0f8aa-5506-400d-8a01-5534b5b44011",
   "metadata": {},
   "outputs": [
    {
     "name": "stdout",
     "output_type": "stream",
     "text": [
      "1\n",
      "2\n",
      "3\n",
      "4\n",
      "5\n",
      "6\n"
     ]
    }
   ],
   "source": [
    "import numpy as np\n",
    "arr = np.array([[1,2,3], [4,5,6]])\n",
    "for i in arr:\n",
    "    for x in i:\n",
    "        print(x)\n",
    "        "
   ]
  },
  {
   "cell_type": "markdown",
   "id": "dfccd49b-fddd-4310-9d40-998bf16142a7",
   "metadata": {},
   "source": [
    "## 3 Boyutlu Dizilerde İterasyon 🧠"
   ]
  },
  {
   "cell_type": "markdown",
   "id": "2a34ed40-16b8-42ad-8799-6cc45a5cd7ff",
   "metadata": {},
   "source": [
    "ℹ️ *3 boyutlu dizi içerisinde gezinme:*"
   ]
  },
  {
   "cell_type": "code",
   "execution_count": 12,
   "id": "ecca69ca-aec7-4917-a44f-a97ba3697681",
   "metadata": {},
   "outputs": [
    {
     "name": "stdout",
     "output_type": "stream",
     "text": [
      "[[1 2 3]\n",
      " [4 5 6]]\n",
      "[[ 7  8  9]\n",
      " [10 11 12]]\n"
     ]
    }
   ],
   "source": [
    "import numpy as np\n",
    "arr = np.array([[[1,2,3],[4,5,6]], [[7,8,9],[10,11,12]]])\n",
    "for i in arr:\n",
    "    print(i)"
   ]
  },
  {
   "cell_type": "markdown",
   "id": "ff7cfca4-2073-442d-8788-93d9e476091e",
   "metadata": {},
   "source": [
    "*3 boyutlu dizimiz 2 elemanlı.2x3'lük 2 tane matrisimiz var.*"
   ]
  },
  {
   "cell_type": "markdown",
   "id": "0776f0df-1f6c-4842-81d7-342822eafa5e",
   "metadata": {},
   "source": [
    "ℹ️ *Her bir skaleri,yani asıl değeri döndürmek for döngüsünü arttırmak gerekir*:"
   ]
  },
  {
   "cell_type": "code",
   "execution_count": 13,
   "id": "99920652-63c5-4e17-a60c-836a91e0960d",
   "metadata": {},
   "outputs": [
    {
     "name": "stdout",
     "output_type": "stream",
     "text": [
      "1\n",
      "2\n",
      "3\n",
      "4\n",
      "5\n",
      "6\n",
      "7\n",
      "8\n",
      "9\n",
      "10\n",
      "11\n",
      "12\n"
     ]
    }
   ],
   "source": [
    "import numpy as np\n",
    "arr = np.array([[[1,2,3],[4,5,6]], [[7,8,9],[10,11,12]]])\n",
    "for i in arr:\n",
    "    for x in i:\n",
    "        for y in x:\n",
    "            print(y)"
   ]
  },
  {
   "cell_type": "markdown",
   "id": "ee152879-7f0b-426c-84e6-1ef3bd447198",
   "metadata": {},
   "source": [
    "## nditer() Kullanarak Dizilerde İterasyon İşlemi 🧠"
   ]
  },
  {
   "cell_type": "markdown",
   "id": "c1fa1686-4dd8-4810-96da-cf044128edef",
   "metadata": {},
   "source": [
    "ℹ️ ***nditer()** fonksiyonu çok basit iterasyonlardan çok gelişmiş iterasyonlara kadar iterasyon işlemi için bir yardımcı fonksiyondur.İterasyon işlemi sırasında karşımıza çıkan bazi basit sorunları çözmemize olanak sağlar.*"
   ]
  },
  {
   "cell_type": "markdown",
   "id": "1e7c698f-7f07-442b-9b5d-2f730c9c39fb",
   "metadata": {},
   "source": [
    "*3 boyutlu bir dizi için iterasyon işlemi gerçekleştirelim.*"
   ]
  },
  {
   "cell_type": "code",
   "execution_count": 15,
   "id": "95898440-7947-4fae-8022-363a1486c6cb",
   "metadata": {},
   "outputs": [
    {
     "name": "stdout",
     "output_type": "stream",
     "text": [
      "1\n",
      "2\n",
      "3\n",
      "4\n",
      "5\n",
      "6\n",
      "7\n",
      "8\n"
     ]
    }
   ],
   "source": [
    "import numpy as np\n",
    "arr = np.array([[[1,2],[3,4]], [[5,6],[7,8]]])\n",
    "for x in np.nditer(arr):\n",
    "    print(x)"
   ]
  },
  {
   "cell_type": "markdown",
   "id": "f97e2f80-383e-4f1d-b233-8c3af0db0eb0",
   "metadata": {},
   "source": [
    "## Farklı Veri Tipleriyle Dizilerde İterasyon 🧠"
   ]
  },
  {
   "cell_type": "markdown",
   "id": "780fed59-5ac1-4b5f-ae0a-777af0f75690",
   "metadata": {},
   "source": [
    "ℹ️ *İterasyon işlemi sırasında elemanların veri tipini değiştirmek için beklenen veri tipini belirtmek adına **op_dtypes** argümanını kullanırız.*<br>\n",
    "ℹ️ *NumPy, elemanların veri tipini yerinde(dizi elemanlarının olduğu alan) değiştirmez.Yukarıda bahsettiğimiz argümanı kullanabilmemiz için başka bir alan gereklidir.Bu ekstra alan **buffer** olarak adlandırılır ve **nditer()** içerisinde şu şekilde kullanılır : **flags = ['buffered']***"
   ]
  },
  {
   "cell_type": "markdown",
   "id": "02cce9b1-99c8-4b96-be52-5429f68a9c9a",
   "metadata": {},
   "source": [
    "*Dizide string olarak iterasyon işlemi:*"
   ]
  },
  {
   "cell_type": "code",
   "execution_count": 17,
   "id": "d3fc8342-4185-4472-adcf-02209d197f6a",
   "metadata": {},
   "outputs": [
    {
     "name": "stdout",
     "output_type": "stream",
     "text": [
      "np.bytes_(b'1')\n",
      "np.bytes_(b'2')\n",
      "np.bytes_(b'3')\n"
     ]
    }
   ],
   "source": [
    "import numpy as np\n",
    "arr = np.array([1,2,3])\n",
    "for i in np.nditer(arr, flags = ['buffered'], op_dtypes = ['S']):\n",
    "    print(i)"
   ]
  },
  {
   "cell_type": "markdown",
   "id": "bb1fbbb0-a8e3-4845-9407-17c1add3acce",
   "metadata": {},
   "source": [
    "## Farklı Adım Boyutuyla İterasyon İşlemi 🧠"
   ]
  },
  {
   "cell_type": "markdown",
   "id": "1c98f571-5736-478e-b7fe-e02ad058a3d8",
   "metadata": {},
   "source": [
    "ℹ️ *Filtreleme işleminden sonra iterasyon işlemi gerçekleştirebiliriz.*"
   ]
  },
  {
   "cell_type": "markdown",
   "id": "6f84ad72-2431-43e5-b9e9-1a4de7f451e3",
   "metadata": {},
   "source": [
    "*2 boyutlu dizide 1'er eleman atlayarak skalerleri gezinme işlemi:*"
   ]
  },
  {
   "cell_type": "code",
   "execution_count": 18,
   "id": "ecdb3cf7-5f66-4e8a-8441-e21781c885cb",
   "metadata": {},
   "outputs": [
    {
     "name": "stdout",
     "output_type": "stream",
     "text": [
      "1\n",
      "3\n",
      "5\n",
      "7\n"
     ]
    }
   ],
   "source": [
    "import numpy as np\n",
    "\n",
    "arr = np.array([[1,2,3,4], [5,6,7,8]])\n",
    "for i in np.nditer(arr[:, ::2]):\n",
    "    print(i)"
   ]
  },
  {
   "cell_type": "markdown",
   "id": "9c8fb10a-4429-4901-8bd4-ed7df8be92f4",
   "metadata": {},
   "source": [
    "## ndenumerate() Kullanarak Numaralandırılmış İterasyon 🧠"
   ]
  },
  {
   "cell_type": "markdown",
   "id": "02eb85db-5775-41a5-80d1-05c43e3c7036",
   "metadata": {},
   "source": [
    "ℹ️ *Burada sayma, birşeylerin numarasını birer birer belirtmek anlamına geliyor.*<br>\n",
    "ℹ️ *Bazen iterasyon işlemi sırasında elemanların indeks bilgisine ihtiyaç duyabiliriz.ndenumerate() tam da bu ihtiyaç için kullanılıyor.*"
   ]
  },
  {
   "cell_type": "code",
   "execution_count": 21,
   "id": "dcf1644f-4206-44d2-802a-e56124a9f95d",
   "metadata": {},
   "outputs": [
    {
     "name": "stdout",
     "output_type": "stream",
     "text": [
      "(0,) 1\n",
      "(1,) 2\n",
      "(2,) 3\n",
      "(3,) 4\n",
      "(4,) 5\n",
      "(5,) 6\n",
      "(6,) 7\n"
     ]
    }
   ],
   "source": [
    "import numpy as np\n",
    "arr = np.array([1,2,3,4,5,6,7])\n",
    "for idx,i in np.ndenumerate(arr):\n",
    "    print(idx,i)"
   ]
  },
  {
   "cell_type": "markdown",
   "id": "773f546b-b4fe-410a-9754-c9cdac1b778e",
   "metadata": {},
   "source": [
    "*2 boyutlu dizilerde enumerate:*"
   ]
  },
  {
   "cell_type": "code",
   "execution_count": 22,
   "id": "443a8379-e616-4a14-82ce-e78c2baf5230",
   "metadata": {},
   "outputs": [
    {
     "name": "stdout",
     "output_type": "stream",
     "text": [
      "(0, 0) 1\n",
      "(0, 1) 2\n",
      "(0, 2) 3\n",
      "(0, 3) 4\n",
      "(1, 0) 5\n",
      "(1, 1) 6\n",
      "(1, 2) 7\n",
      "(1, 3) 8\n"
     ]
    }
   ],
   "source": [
    "import numpy as np\n",
    "arr = np.array([[1,2,3,4], [5,6,7,8]])\n",
    "for idx,i in np.ndenumerate(arr):\n",
    "    print(idx,i)"
   ]
  }
 ],
 "metadata": {
  "kernelspec": {
   "display_name": "Python 3 (ipykernel)",
   "language": "python",
   "name": "python3"
  },
  "language_info": {
   "codemirror_mode": {
    "name": "ipython",
    "version": 3
   },
   "file_extension": ".py",
   "mimetype": "text/x-python",
   "name": "python",
   "nbconvert_exporter": "python",
   "pygments_lexer": "ipython3",
   "version": "3.13.5"
  }
 },
 "nbformat": 4,
 "nbformat_minor": 5
}
