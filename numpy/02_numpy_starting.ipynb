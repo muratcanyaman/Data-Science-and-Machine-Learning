{
 "cells": [
  {
   "cell_type": "markdown",
   "id": "f6ce3170-98d8-4fc2-9762-3d890ec30cc6",
   "metadata": {},
   "source": [
    "# NumPy'a Başlarken 🚀\t"
   ]
  },
  {
   "cell_type": "markdown",
   "id": "f3dd481f-70bf-4adf-8365-5c2dc83f6d20",
   "metadata": {},
   "source": [
    "## NumPy Kurulumu 🧠\t"
   ]
  },
  {
   "cell_type": "markdown",
   "id": "fa5c1924-46bf-4da3-a81f-65553e7d64ae",
   "metadata": {},
   "source": [
    "ℹ️ *Eğer sisteminizde halihazırda Python ve Pip var ise, NumPy kurulumu çok kolay !*\n",
    "    *Aşağıdaki komutu kullanabilirsiniz :* "
   ]
  },
  {
   "cell_type": "markdown",
   "id": "201b0af0-c344-41c7-b91b-1c3a3eadbacb",
   "metadata": {},
   "source": [
    "<pre>C:\\Users\\Your Name> pip install numpy</pre>"
   ]
  },
  {
   "cell_type": "markdown",
   "id": "248850c4-a4ee-44fd-859d-3cd9875fb764",
   "metadata": {},
   "source": [
    "⚠️ *Eğer yukarıdaki komut çalışmaz ise, Anaconda,Spyder vb. gibi içerisinde NumPy yüklü bir şekilde gelen python dağıtımlarını kullanabilirsiniz.*"
   ]
  },
  {
   "cell_type": "markdown",
   "id": "7a9e967e-2498-4c9d-b0ff-628afbeb2ea7",
   "metadata": {},
   "source": [
    "# Import NumPy 🧠\t"
   ]
  },
  {
   "cell_type": "markdown",
   "id": "c2272669-d6e4-4910-9ade-e05f1a5c92c0",
   "metadata": {},
   "source": [
    "ℹ️\t*NumPy Yüklendikten sonra **import** keyword'ünü kullanarak NumPy kütüphanesini uygulamanıza import edin:*<br>"
   ]
  },
  {
   "cell_type": "markdown",
   "id": "31865b3a-c402-4ba8-8316-aaee359dae5f",
   "metadata": {},
   "source": [
    "<pre> import numpy </pre> "
   ]
  },
  {
   "cell_type": "markdown",
   "id": "dacc0b09-0ae2-41fc-a5fc-51587233d15a",
   "metadata": {},
   "source": [
    " *numPy import edildi ve kullanıma hazır !*"
   ]
  },
  {
   "cell_type": "markdown",
   "id": "1a656f4c-81ea-43f7-85a4-15a88622616b",
   "metadata": {},
   "source": [
    " *Örnek*:"
   ]
  },
  {
   "cell_type": "code",
   "execution_count": 7,
   "id": "6c884bd7-6d03-4d09-adf4-276657ffd206",
   "metadata": {},
   "outputs": [
    {
     "name": "stdout",
     "output_type": "stream",
     "text": [
      "[1 2 3 4 5]\n"
     ]
    }
   ],
   "source": [
    "import numpy\n",
    "arr = numpy.array([1,2,3,4,5])\n",
    "print(arr)"
   ]
  },
  {
   "cell_type": "markdown",
   "id": "da6df857-7625-4191-a33c-06de120de46f",
   "metadata": {},
   "source": [
    "📌\t*numPy kütüphanesini genellikle np alias'ı kullanarak import ederiz. np, numpy'a referans gösterir:*"
   ]
  },
  {
   "cell_type": "markdown",
   "id": "fd227bbb-6d69-449b-9f9f-d4cba589cc5c",
   "metadata": {},
   "source": [
    "Örnek:"
   ]
  },
  {
   "cell_type": "code",
   "execution_count": 5,
   "id": "9af7f42a-1b94-4c40-8ca9-25e23cbe47c7",
   "metadata": {},
   "outputs": [
    {
     "name": "stdout",
     "output_type": "stream",
     "text": [
      "[1 2 3 4 5]\n"
     ]
    }
   ],
   "source": [
    "import numpy as np\n",
    "arr = np.array([1,2,3,4,5])\n",
    "print(arr)"
   ]
  },
  {
   "cell_type": "markdown",
   "id": "8a8ce7bf-f480-4c0a-9f3a-510867888f1f",
   "metadata": {},
   "source": [
    "📌\t*NumPy versiyonunu kontrol etmek için:*"
   ]
  },
  {
   "cell_type": "code",
   "execution_count": 9,
   "id": "3d0f5c62-63fc-443d-b990-0f8c7add44ba",
   "metadata": {},
   "outputs": [
    {
     "name": "stdout",
     "output_type": "stream",
     "text": [
      "2.1.3\n"
     ]
    }
   ],
   "source": [
    "import numpy as np\n",
    "print(np.__version__)"
   ]
  }
 ],
 "metadata": {
  "kernelspec": {
   "display_name": "Python 3 (ipykernel)",
   "language": "python",
   "name": "python3"
  },
  "language_info": {
   "codemirror_mode": {
    "name": "ipython",
    "version": 3
   },
   "file_extension": ".py",
   "mimetype": "text/x-python",
   "name": "python",
   "nbconvert_exporter": "python",
   "pygments_lexer": "ipython3",
   "version": "3.13.5"
  }
 },
 "nbformat": 4,
 "nbformat_minor": 5
}
