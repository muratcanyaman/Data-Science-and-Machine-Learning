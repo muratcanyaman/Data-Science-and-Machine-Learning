{
 "cells": [
  {
   "cell_type": "markdown",
   "id": "d4a0a54c-4d69-4b86-bb32-ce85b2e13262",
   "metadata": {},
   "source": [
    "# **NumPy'a Giriş** 🚀"
   ]
  },
  {
   "cell_type": "markdown",
   "id": "e3e7687a-aeba-4c2e-908e-5543fae62902",
   "metadata": {},
   "source": [
    "# Nedir bu NumPy? 🧠"
   ]
  },
  {
   "cell_type": "markdown",
   "id": "5895ab57-6a3d-4afe-b8b2-2ba842d438fb",
   "metadata": {},
   "source": [
    "ℹ️ *NumPy, dizilerle interaktif bir şekilde çalışmamızı sağlayan bir Python Kütüphanesidir.*<br>\n",
    "ℹ️ *Lineer Cebir, Fourier Dönüşümü ve matrisler ile çalışabilme imkanı sunan hazır fonksiyonlar içermektedir.*<br>\n",
    "ℹ️ *İlk temeli 1995 yılında atılsa da nihai olarak 2005 yılında hazır hale gelmiştir.Yaratıcısı Travis Oliphant'tır.*<br>\n",
    "ℹ️ *Açık kaynak bir projedir ve ücretsiz bir şekilde erişebilirsiniz.*<br>"
   ]
  },
  {
   "cell_type": "markdown",
   "id": "29ecc4d7-eca3-4f97-8ac4-196a4a82c84d",
   "metadata": {},
   "source": [
    "📌 *NumPy'ın açılımı Numerical Python'dur.*"
   ]
  },
  {
   "cell_type": "markdown",
   "id": "91edfad9-6722-4f36-877f-2bea404cdb9f",
   "metadata": {},
   "source": [
    "# Neden NumPy Kullanırız? 🧠"
   ]
  },
  {
   "cell_type": "markdown",
   "id": "4263a3a3-8d9b-4363-87ff-d4303165d485",
   "metadata": {},
   "source": [
    "ℹ️ *Python'da dizilerle aynı işlevi gören liste nesnesi vardır fakat bu listelerin işlenmesi çok yavaştır.*<br>\n",
    "ℹ️ *NumPy; içerisinde geleneksel Python listelerinden 50 kat daha hızlı çalışmayı sağlayan dizi nesnesi barındırmaktadır.*<br>\n",
    "ℹ️ *NumPy'daki dizi nesnesi **ndarray** olarak adlandırılır.*<br>\n",
    "ℹ️ *NumPy kütüphanesi içerisinde bu ndarray'lar ile çok kolay bir şekilde çalışmaya olanak sağlayan fonksiyonlar içermektedir.*<br>\n",
    "ℹ️ *Diziler hız ve kaynağın ön planda olduğu **Veri Bilimi** alanında sıklıkla kullanılan NumPy'a özgü veri yapılarıdır.*<br>"
   ]
  },
  {
   "cell_type": "markdown",
   "id": "65ad35df-3676-48f0-bbc2-23dff9841ab8",
   "metadata": {},
   "source": [
    "📌 *Veri Bilimi : Bilgisayar Bilimlerinin bir alt dalıdır.Veriyi depolama,analiz etme ve bu verilerden anlamlı bilgiler çıkarma işidir.*"
   ]
  },
  {
   "cell_type": "markdown",
   "id": "912947d1-8cb3-4c6d-b6f2-781f78a53f43",
   "metadata": {},
   "source": [
    "# Neden NumPy Listelerden Daha Hızldır? 🧠"
   ]
  },
  {
   "cell_type": "markdown",
   "id": "9db33616-7cc1-43ce-b7c5-430f38e7f057",
   "metadata": {},
   "source": [
    "ℹ️ *NumPy array'leri listelerin aksine hafızada tek bir sürekli yerde tutulur,bu da process'lerin array'lere verimli bir şekilde erişimini ve işlenmesini verimli hale getirir.*<br>\n",
    "ℹ️ *Bu olaya Bilgisayar Biliminde **Referans Yerelliği** denir.*<br>\n",
    "ℹ️ *Yani Referans Yerelliği NumPy array'lerinin listelerden hızlı olmasının asıl nedenidir.Ayrıca güncel CPU mimarileriyle çalışmak için optimize edilmiştir.*<br>"
   ]
  },
  {
   "cell_type": "markdown",
   "id": "c4e215b9-0210-42f6-b6d1-b15cd0fcd1be",
   "metadata": {},
   "source": [
    "# Hangi Dilde Yazıldı?"
   ]
  },
  {
   "cell_type": "markdown",
   "id": "27614348-34b5-4f00-b2d8-df17c690f677",
   "metadata": {},
   "source": [
    "ℹ️ *Neticede Numpy bir Python kütüphanesi ve kısmen de olsa Python dilinde yazıldı.Ancak hızlı hesaplamalar gerektiren çoğu fonksiyonlar C ya da C++ ile yazılmıştır.*<br>"
   ]
  },
  {
   "cell_type": "markdown",
   "id": "6bd7e830-a812-4ff6-b553-81a318fe70da",
   "metadata": {},
   "source": [
    "💻 *Numpy kaynak kodlarına erişmek isterseniz :* **https://github.com/numpy/numpy**"
   ]
  }
 ],
 "metadata": {
  "kernelspec": {
   "display_name": "Python 3 (ipykernel)",
   "language": "python",
   "name": "python3"
  },
  "language_info": {
   "codemirror_mode": {
    "name": "ipython",
    "version": 3
   },
   "file_extension": ".py",
   "mimetype": "text/x-python",
   "name": "python",
   "nbconvert_exporter": "python",
   "pygments_lexer": "ipython3",
   "version": "3.13.5"
  }
 },
 "nbformat": 4,
 "nbformat_minor": 5
}
