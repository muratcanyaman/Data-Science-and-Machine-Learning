{
 "cells": [
  {
   "cell_type": "markdown",
   "id": "a635dd5b-e366-47ed-9d21-7359113739d6",
   "metadata": {},
   "source": [
    "# Dizilerde Sıralama 🚀"
   ]
  },
  {
   "cell_type": "markdown",
   "id": "40239dc2-b742-485c-be0f-b48a6d68e55f",
   "metadata": {},
   "source": [
    "ℹ️ *Sıralama,dizideki elemanları sıralı bir şekilde yerleştirme işlemidir.*<br>\n",
    "ℹ️ ***Sıralı dizi** demek nümerik veya alfabetik elemanların artan veya azalan sıraya göre bir sırada olması anlamını taşır.*\n",
    "ℹ️ *NumPy dizi nesnesi **sort()** adlı belli bir diziyi argüman olarak alıp bu dizi elemanlarını sıralayan bir fonksiyona sahiptir.*"
   ]
  },
  {
   "cell_type": "code",
   "execution_count": 2,
   "id": "bd03d3d3-0ca2-4204-a07e-b81a68946772",
   "metadata": {},
   "outputs": [
    {
     "name": "stdout",
     "output_type": "stream",
     "text": [
      "[-5  0  1  1  2  3  3  3  4  5  5  6  7  7  8  9 10]\n"
     ]
    }
   ],
   "source": [
    "import numpy as np\n",
    "arr = ([1,0,-5,10,3,2,5,7,8,9,6,5,3,1,4,3,7])\n",
    "print(np.sort(arr))\n"
   ]
  },
  {
   "cell_type": "markdown",
   "id": "ee82d927-4343-428d-8d18-4ad1801993a6",
   "metadata": {},
   "source": [
    "⚠️ ***sort()** fonksiyonu geri dönüş değeri olarak orijinal dizi nesnesinin kopyasını döndürür.Orijinal dizide bir değişiklik olmaz.*"
   ]
  },
  {
   "cell_type": "markdown",
   "id": "fcb1497e-6eed-453c-aca8-834539bd7bbf",
   "metadata": {},
   "source": [
    "ℹ️ *string türünde veya herhangi bir türde veri içeren bir diziyi de sıralayabiliriz:*"
   ]
  },
  {
   "cell_type": "code",
   "execution_count": 3,
   "id": "7638e431-48ae-4ff7-969d-02f882751117",
   "metadata": {},
   "outputs": [
    {
     "name": "stdout",
     "output_type": "stream",
     "text": [
      "['C' 'Go' 'Java' 'Python' 'R' 'TypeScript']\n"
     ]
    }
   ],
   "source": [
    "import numpy as np\n",
    "arr = np.array([\"Python\",\"Java\",\"R\",\"C\",\"TypeScript\",\"Go\"])\n",
    "print(np.sort(arr))"
   ]
  },
  {
   "cell_type": "markdown",
   "id": "880f7e22-debc-48dc-be06-014bf570498f",
   "metadata": {},
   "source": [
    "ℹ️ *Boolean türünde bir diziyi sıralayalım:*"
   ]
  },
  {
   "cell_type": "code",
   "execution_count": 4,
   "id": "fbc744d9-199d-4ab4-9673-923d4da73551",
   "metadata": {},
   "outputs": [
    {
     "name": "stdout",
     "output_type": "stream",
     "text": [
      "['False' 'False' 'True']\n"
     ]
    }
   ],
   "source": [
    "import numpy as np\n",
    "arr = np.array([\"True\", \"False\", \"False\"])\n",
    "print(np.sort(arr))"
   ]
  },
  {
   "cell_type": "markdown",
   "id": "6188243f-1500-49e1-89ba-918f791bcfe0",
   "metadata": {},
   "source": [
    "## 2 Boyutlu Dizilerde Sıralama 🧠"
   ]
  },
  {
   "cell_type": "markdown",
   "id": "00692089-9fd7-480d-9181-051209e332f5",
   "metadata": {},
   "source": [
    "ℹ️ *İki boyutlu dizilerde **sort()** fonksiyonu kullanılırsa,bütün alt diziler sıralı olarak döner.*"
   ]
  },
  {
   "cell_type": "code",
   "execution_count": 5,
   "id": "94738ecd-c630-4f8b-a57c-dbc18df09388",
   "metadata": {},
   "outputs": [
    {
     "name": "stdout",
     "output_type": "stream",
     "text": [
      "[[0 1 2]\n",
      " [6 8 9]]\n"
     ]
    }
   ],
   "source": [
    "import numpy as np\n",
    "arr = np.array([[1,0,2],[6,9,8]])\n",
    "print(np.sort(arr))"
   ]
  }
 ],
 "metadata": {
  "kernelspec": {
   "display_name": "Python 3 (ipykernel)",
   "language": "python",
   "name": "python3"
  },
  "language_info": {
   "codemirror_mode": {
    "name": "ipython",
    "version": 3
   },
   "file_extension": ".py",
   "mimetype": "text/x-python",
   "name": "python",
   "nbconvert_exporter": "python",
   "pygments_lexer": "ipython3",
   "version": "3.13.5"
  }
 },
 "nbformat": 4,
 "nbformat_minor": 5
}
