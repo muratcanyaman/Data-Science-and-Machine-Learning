{
 "cells": [
  {
   "cell_type": "markdown",
   "id": "3f871f14-b56c-4fac-815f-61c9f80541e7",
   "metadata": {},
   "source": [
    "# NumPy Dizisini Yeniden Şekillendirme 🚀"
   ]
  },
  {
   "cell_type": "markdown",
   "id": "27d5fb31-e4a0-472e-a978-9d8668b22d8c",
   "metadata": {},
   "source": [
    "## Dizileri Yeniden Şekillendirme 🧠"
   ]
  },
  {
   "cell_type": "markdown",
   "id": "fac467ae-d48c-4fed-a8be-06ced8df964c",
   "metadata": {},
   "source": [
    "ℹ️ *Yeniden şekillendirmeden kasıt bir dizinin şeklini değiştirmektir.Yani boyutunu...*<br>\n",
    "ℹ️ *Bir dizinin şekli her bir boyuttaki eleman sayısıdır.*<br>\n",
    "ℹ️ *Yeniden şekillendirme yaparken boyut ekleme veya silme,her bir boyuttaki eleman sayısını değiştirme gibi birtakım işlemler gerçekleştirebiliriz.*"
   ]
  },
  {
   "cell_type": "markdown",
   "id": "cf645757-1236-4cc1-8ef3-ac676905f562",
   "metadata": {},
   "source": [
    "## 1 Boyutludan 2 Boyutluya Dönüştürme 🧠"
   ]
  },
  {
   "cell_type": "markdown",
   "id": "0a859a39-258a-4ff7-b338-4877ee7c5311",
   "metadata": {},
   "source": [
    "*12 elemandan oluşan 1 boyutlu bir diziyi 2 boyutlu diziye dönüştürelim.Bu 2 boyutlu dizi her biri 3 elemandan oluşan 4 tane dizi içersin:*"
   ]
  },
  {
   "cell_type": "code",
   "execution_count": 31,
   "id": "be09a899-e7b2-474c-a032-11dcd73bed71",
   "metadata": {},
   "outputs": [
    {
     "name": "stdout",
     "output_type": "stream",
     "text": [
      "[ 1  2  3  4  5  6  7  8  9 10 11 12]\n",
      "[[ 1  2  3]\n",
      " [ 4  5  6]\n",
      " [ 7  8  9]\n",
      " [10 11 12]]\n"
     ]
    }
   ],
   "source": [
    "import numpy as np\n",
    "arr = np.array([1,2,3,4,5,6,7,8,9,10,11,12])\n",
    "newarr = arr.reshape(4,3)\n",
    "print(arr)\n",
    "print(newarr)"
   ]
  },
  {
   "cell_type": "markdown",
   "id": "5a046968-796d-4972-a68e-10998a21921f",
   "metadata": {},
   "source": [
    "*Yeni dizi her biri 3 elemanlı 4 tane alt diziden oluşuyor.Bir diğer deyişle 4x3'lük 2 boyutlu bir matris oluşturduk.* 🔥"
   ]
  },
  {
   "cell_type": "markdown",
   "id": "5280a6e5-fb1d-4c0f-880e-4b000e9f3c85",
   "metadata": {},
   "source": [
    "## 1 Boyutludan 3 Boyutluya Dönüştürme 🧠"
   ]
  },
  {
   "cell_type": "markdown",
   "id": "550f1493-ab8e-4fb2-98b6-c06794845cc8",
   "metadata": {},
   "source": [
    "*20 elemandan oluşan tek boyutlu bir NumPy dizisini 3 boyutlu bir matrise dönüştürelim:*"
   ]
  },
  {
   "cell_type": "code",
   "execution_count": 32,
   "id": "42c49794-d50b-4a18-bc95-4010bcb9d503",
   "metadata": {},
   "outputs": [
    {
     "name": "stdout",
     "output_type": "stream",
     "text": [
      "[ 1  2  3  4  5  6  7  8  9 10 11 12 13 14 15 16 17 18 19 20]\n",
      "[[[ 1  2]\n",
      "  [ 3  4]\n",
      "  [ 5  6]\n",
      "  [ 7  8]\n",
      "  [ 9 10]]\n",
      "\n",
      " [[11 12]\n",
      "  [13 14]\n",
      "  [15 16]\n",
      "  [17 18]\n",
      "  [19 20]]]\n"
     ]
    }
   ],
   "source": [
    "import numpy as np\n",
    "arr = np.array([1,2,3,4,5,6,7,8,9,10,11,12,13,14,15,16,17,18,19,20])\n",
    "new_arr = arr.reshape(2,5,2)\n",
    "print(arr)\n",
    "print(new_arr)"
   ]
  },
  {
   "cell_type": "markdown",
   "id": "757d8be4-fba6-43ca-b7f9-ac8062f68875",
   "metadata": {},
   "source": [
    "*Yukarıdaki örnekte her biri 5x2'lik matris olan 2 elemanlı ve 3 boyutlu bir dizi oluşturduk.*\t🔥"
   ]
  },
  {
   "cell_type": "markdown",
   "id": "567c466c-9447-4719-8ebf-92d09bb721f7",
   "metadata": {},
   "source": [
    "## Herhangi Bi Boyuta Dönüştürme Yapılabilir mi?\t🧠"
   ]
  },
  {
   "cell_type": "markdown",
   "id": "cc537577-c68b-4064-9f25-3270a4cda1ef",
   "metadata": {},
   "source": [
    "ℹ️ *Evet,dönüştürmek istediğimiz boyut ile halihazırda bulunan boyuttaki eleman sayısı birbiriyle örtüştüğü sürece bir boyuttan bir boyuta dönüştürme yapılabilir.*<br>\n",
    "ℹ️ *Örnek vermek gerekirse: 1 boyutlu 8 elemanlı bir diziyi 2 satır 4 elemandan oluşan 2 boyutlu bir diziye dönüştürebiliriz fakat 3 satır 3 elemanlı yani 3x3'lük matrise dönüştüremeyiz çünkü bunun için 9 eleman gerekli.*"
   ]
  },
  {
   "cell_type": "markdown",
   "id": "f7304274-f0af-423c-8b69-f1ce4f96e918",
   "metadata": {},
   "source": [
    "*8 eleman içeren 1 boyutlu diziyi 3x3'lük bir matrise dönüştürmeye çalışalım.Hata mesajı dönderecektir:*"
   ]
  },
  {
   "cell_type": "code",
   "execution_count": 33,
   "id": "7f2b9724-1c6e-40fc-8a5b-f0c7d212ca25",
   "metadata": {},
   "outputs": [
    {
     "ename": "ValueError",
     "evalue": "cannot reshape array of size 8 into shape (3,3)",
     "output_type": "error",
     "traceback": [
      "\u001b[1;31m---------------------------------------------------------------------------\u001b[0m",
      "\u001b[1;31mValueError\u001b[0m                                Traceback (most recent call last)",
      "Cell \u001b[1;32mIn[33], line 3\u001b[0m\n\u001b[0;32m      1\u001b[0m \u001b[38;5;28;01mimport\u001b[39;00m\u001b[38;5;250m \u001b[39m\u001b[38;5;21;01mnumpy\u001b[39;00m\u001b[38;5;250m \u001b[39m\u001b[38;5;28;01mas\u001b[39;00m\u001b[38;5;250m \u001b[39m\u001b[38;5;21;01mnp\u001b[39;00m\n\u001b[0;32m      2\u001b[0m arr \u001b[38;5;241m=\u001b[39m np\u001b[38;5;241m.\u001b[39marray([\u001b[38;5;241m1\u001b[39m,\u001b[38;5;241m2\u001b[39m,\u001b[38;5;241m3\u001b[39m,\u001b[38;5;241m4\u001b[39m,\u001b[38;5;241m5\u001b[39m,\u001b[38;5;241m6\u001b[39m,\u001b[38;5;241m7\u001b[39m,\u001b[38;5;241m8\u001b[39m])\n\u001b[1;32m----> 3\u001b[0m new_arr \u001b[38;5;241m=\u001b[39m arr\u001b[38;5;241m.\u001b[39mreshape(\u001b[38;5;241m3\u001b[39m,\u001b[38;5;241m3\u001b[39m)\n\u001b[0;32m      4\u001b[0m \u001b[38;5;28mprint\u001b[39m(new_arr)\n",
      "\u001b[1;31mValueError\u001b[0m: cannot reshape array of size 8 into shape (3,3)"
     ]
    }
   ],
   "source": [
    "import numpy as np\n",
    "arr = np.array([1,2,3,4,5,6,7,8])\n",
    "new_arr = arr.reshape(3,3)\n",
    "print(new_arr)"
   ]
  },
  {
   "cell_type": "markdown",
   "id": "846083de-709f-49d2-b853-e04a76f3e6b3",
   "metadata": {},
   "source": [
    "## Döndürülen Nesne Copy mi View mi?🧠"
   ]
  },
  {
   "cell_type": "markdown",
   "id": "5074f624-e38d-4141-bbee-964518877f70",
   "metadata": {},
   "source": [
    "*Yeniden boyutlandırılan dizi nesnesinin copy mi view mi olduğunu kontrol edelim:*"
   ]
  },
  {
   "cell_type": "code",
   "execution_count": 34,
   "id": "8efacf1e-923a-4459-a0c8-b15d6541783b",
   "metadata": {},
   "outputs": [
    {
     "name": "stdout",
     "output_type": "stream",
     "text": [
      "[[1 2 3 4]\n",
      " [5 6 7 8]]\n",
      "[1 2 3 4 5 6 7 8]\n"
     ]
    }
   ],
   "source": [
    "import numpy as np\n",
    "arr = np.array([1,2,3,4,5,6,7,8])\n",
    "new_arr = arr.reshape(2,4)\n",
    "print(new_arr)\n",
    "print(new_arr.base)"
   ]
  },
  {
   "cell_type": "markdown",
   "id": "5fa827b1-145d-41b0-bfe8-778864fe24f1",
   "metadata": {},
   "source": [
    "📌*Yukarıdaki örnekte new_arr nesnesi 2 boyutlu bir matris ama base özniteliği orijinal diziyi dönderiyor.Yani bu bir view.*"
   ]
  },
  {
   "cell_type": "markdown",
   "id": "de801321-95a7-45da-a636-64bac3b8e556",
   "metadata": {},
   "source": [
    "## Bilinmeyen Boyut 🧠"
   ]
  },
  {
   "cell_type": "markdown",
   "id": "60b583de-9a3f-42fd-8ede-6f714d1eff18",
   "metadata": {},
   "source": [
    "ℹ️ *Bir adet bilinmeyen boyutunuz olabilir.*<br>\n",
    "ℹ️ *Bu şu demek: **reshape()** metodunda boyutlardan biri için kesin bir sayı belirtmek zorunda olmadığınızdır.*<br>\n",
    "ℹ️ *Değeri -1 olarak girin ve NumPy sizin için asıl girilmesi gereken numarayı hesaplasın.*"
   ]
  },
  {
   "cell_type": "markdown",
   "id": "9486ece2-f2ef-45f6-ad88-ad1c571038ee",
   "metadata": {},
   "source": [
    "*1 boyutlu 12 elemanlı diziyi 2x3 elemanlı 3 boyutlu bir diziye dönüştürelim:*"
   ]
  },
  {
   "cell_type": "code",
   "execution_count": 35,
   "id": "bb013a01-b252-45d8-82f7-19963e3287f6",
   "metadata": {},
   "outputs": [
    {
     "name": "stdout",
     "output_type": "stream",
     "text": [
      "[[[ 1  2  3]\n",
      "  [ 4  5  6]]\n",
      "\n",
      " [[ 7  8  9]\n",
      "  [10 11 12]]]\n"
     ]
    }
   ],
   "source": [
    "import numpy as np\n",
    "arr = np.array([1, 2, 3, 4, 5, 6, 7, 8,9,10,11,12])\n",
    "newarr = arr.reshape(2, 2, -1)\n",
    "print(newarr)"
   ]
  },
  {
   "cell_type": "markdown",
   "id": "bffdc102-f63a-4ffc-af56-76adcea5f2c9",
   "metadata": {},
   "source": [
    "*Görüldüğü üzere NumPy 2 tane 2x3'lük 3 boyutlu bir dizi oluşturdu.*"
   ]
  },
  {
   "cell_type": "markdown",
   "id": "6aaeac81-c1b6-476b-aaeb-2c32c5bbeff6",
   "metadata": {},
   "source": [
    "⚠️ *Sadece tek bir bilinmeyen boyut bilgisi verebiliriz.Birden fazla bilinmeyen boyut bilgisi hata mesajı dönmesine sebep olur:*"
   ]
  },
  {
   "cell_type": "code",
   "execution_count": 36,
   "id": "e406edff-33da-43e6-b8c7-c9f1dc6d5801",
   "metadata": {},
   "outputs": [
    {
     "ename": "ValueError",
     "evalue": "can only specify one unknown dimension",
     "output_type": "error",
     "traceback": [
      "\u001b[1;31m---------------------------------------------------------------------------\u001b[0m",
      "\u001b[1;31mValueError\u001b[0m                                Traceback (most recent call last)",
      "Cell \u001b[1;32mIn[36], line 3\u001b[0m\n\u001b[0;32m      1\u001b[0m \u001b[38;5;28;01mimport\u001b[39;00m\u001b[38;5;250m \u001b[39m\u001b[38;5;21;01mnumpy\u001b[39;00m\u001b[38;5;250m \u001b[39m\u001b[38;5;28;01mas\u001b[39;00m\u001b[38;5;250m \u001b[39m\u001b[38;5;21;01mnp\u001b[39;00m\n\u001b[0;32m      2\u001b[0m arr \u001b[38;5;241m=\u001b[39m np\u001b[38;5;241m.\u001b[39marray([\u001b[38;5;241m1\u001b[39m, \u001b[38;5;241m2\u001b[39m, \u001b[38;5;241m3\u001b[39m, \u001b[38;5;241m4\u001b[39m, \u001b[38;5;241m5\u001b[39m, \u001b[38;5;241m6\u001b[39m, \u001b[38;5;241m7\u001b[39m, \u001b[38;5;241m8\u001b[39m,\u001b[38;5;241m9\u001b[39m,\u001b[38;5;241m10\u001b[39m,\u001b[38;5;241m11\u001b[39m,\u001b[38;5;241m12\u001b[39m])\n\u001b[1;32m----> 3\u001b[0m newarr \u001b[38;5;241m=\u001b[39m arr\u001b[38;5;241m.\u001b[39mreshape(\u001b[38;5;241m2\u001b[39m, \u001b[38;5;241m-\u001b[39m\u001b[38;5;241m1\u001b[39m, \u001b[38;5;241m-\u001b[39m\u001b[38;5;241m1\u001b[39m)\n\u001b[0;32m      4\u001b[0m \u001b[38;5;28mprint\u001b[39m(newarr)\n",
      "\u001b[1;31mValueError\u001b[0m: can only specify one unknown dimension"
     ]
    }
   ],
   "source": [
    "import numpy as np\n",
    "arr = np.array([1, 2, 3, 4, 5, 6, 7, 8,9,10,11,12])\n",
    "newarr = arr.reshape(2, -1, -1)\n",
    "print(newarr)"
   ]
  },
  {
   "cell_type": "markdown",
   "id": "5555293a-2a94-4671-886c-54fbf396b725",
   "metadata": {},
   "source": [
    "## Dizileri Düzleştirmek🧠"
   ]
  },
  {
   "cell_type": "markdown",
   "id": "7994fe9c-beb6-40be-83a1-bb5fd60687ab",
   "metadata": {},
   "source": [
    "ℹ️ *Dizileri düzleştirmek:1'den büyüt boyuta sahip dizileri 1 boyutlu hale getirmek demektir.*<br>\n",
    "ℹ️ *Bunu yapmak için **reshape(-1)** şeklinde bir kullanım vardır.*"
   ]
  },
  {
   "cell_type": "markdown",
   "id": "808d5115-fe05-4ef1-8cdb-259443f943a2",
   "metadata": {},
   "source": [
    "*İki boyutlu bir diziyi tek boyutlu diziye dönüştürelim:*"
   ]
  },
  {
   "cell_type": "code",
   "execution_count": 37,
   "id": "0c08b2e6-8893-49db-bacf-7af3adcef771",
   "metadata": {},
   "outputs": [
    {
     "name": "stdout",
     "output_type": "stream",
     "text": [
      "[1 2 3 4 5 6]\n"
     ]
    }
   ],
   "source": [
    "import numpy as np\n",
    "arr = np.array([[1,2,3], [4,5,6]])\n",
    "newarr = arr.reshape(-1)\n",
    "print(newarr)"
   ]
  },
  {
   "cell_type": "markdown",
   "id": "b5534553-b100-4ca8-ac0b-ebba2abbb5a7",
   "metadata": {},
   "source": [
    "📌 *NumPy'da boyut değiştirmeye yarayan **flatten**,**reval** gibi birden fazla fonksiyon vardır.Aynı zamanda elemanları yeniden düzenlemeye yardımcı olan **rot90**,**flip**,**fliplr** ve **flipud** gibi fonksiyonlar da mevcuttur.Bunlar NumPy'ın ileri seviye konularıdır.Daha sonra bunlara değineceğiz.*"
   ]
  }
 ],
 "metadata": {
  "kernelspec": {
   "display_name": "Python 3 (ipykernel)",
   "language": "python",
   "name": "python3"
  },
  "language_info": {
   "codemirror_mode": {
    "name": "ipython",
    "version": 3
   },
   "file_extension": ".py",
   "mimetype": "text/x-python",
   "name": "python",
   "nbconvert_exporter": "python",
   "pygments_lexer": "ipython3",
   "version": "3.13.5"
  }
 },
 "nbformat": 4,
 "nbformat_minor": 5
}
