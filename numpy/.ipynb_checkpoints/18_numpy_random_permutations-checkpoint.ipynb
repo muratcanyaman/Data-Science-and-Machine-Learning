{
 "cells": [
  {
   "cell_type": "markdown",
   "id": "ff9c5df1-46ab-4bb2-9b0c-282831615694",
   "metadata": {},
   "source": [
    "# Rastgele Permütasyonlar 🚀"
   ]
  },
  {
   "cell_type": "markdown",
   "id": "462c45d3-a00c-4725-b96d-9bfd958d9ff7",
   "metadata": {},
   "source": [
    "ℹ️ *Rastgele dağılım elemanların düzenlenmesine işaret eder.Örneğin [3,2,1] [1,2,3]'ün permütasyonudur ve tam tersidir.*<br>\n",
    "ℹ️ *NumPy random modülü bu işlem için iki modül sunar: **shuffle()** ve **permutation()***."
   ]
  },
  {
   "cell_type": "markdown",
   "id": "0f607ec8-09db-43f7-bfd6-509037291ff9",
   "metadata": {},
   "source": [
    "## Dizileri Karıştırmak 🧠"
   ]
  },
  {
   "cell_type": "markdown",
   "id": "5b894b07-e4d9-42a7-b913-6157a2c732ac",
   "metadata": {},
   "source": [
    "ℹ️ *Burada karıştırmak elemanların yerinde düzenini değiştirmek anlamına geliyor.Örneğin dizinin kendisini.*"
   ]
  },
  {
   "cell_type": "code",
   "execution_count": 1,
   "id": "38257529-2777-430f-be1a-6aaa2bedc6f7",
   "metadata": {},
   "outputs": [
    {
     "name": "stdout",
     "output_type": "stream",
     "text": [
      "[9 2 1 6 8 7 5 3 4]\n"
     ]
    }
   ],
   "source": [
    "import numpy as np\n",
    "from numpy import random\n",
    "arr = np.array([1,2,3,4,5,6,7,8,9])\n",
    "random.shuffle(arr)\n",
    "print(arr)"
   ]
  },
  {
   "cell_type": "markdown",
   "id": "87fd030b-cf3d-470d-98c4-8df6ee3a032d",
   "metadata": {},
   "source": [
    "⚠️ ***shuffle()** metodu karıştırma işleminin orijinal dizide yapıyor.Kopyalama işlemi yok.*"
   ]
  },
  {
   "cell_type": "markdown",
   "id": "ea31d3d7-5cca-4f94-ab17-341f3edcbc71",
   "metadata": {},
   "source": [
    "## Dizilerin Permütasyonunu Oluşturma 🧠"
   ]
  },
  {
   "cell_type": "markdown",
   "id": "3442d067-f781-45e5-b011-262dfd96ae3b",
   "metadata": {},
   "source": [
    "*Aşağıdaki dizinin elemanlarından rastgele permütasyon oluşturalım:*"
   ]
  },
  {
   "cell_type": "code",
   "execution_count": 2,
   "id": "e6f40d1b-9056-4b0f-b333-449089f4b225",
   "metadata": {},
   "outputs": [
    {
     "name": "stdout",
     "output_type": "stream",
     "text": [
      "[3 2 5 4 1]\n"
     ]
    }
   ],
   "source": [
    "import numpy as np\n",
    "from numpy import random\n",
    "arr = np.array([1,2,3,4,5])\n",
    "print(random.permutation(arr))"
   ]
  },
  {
   "cell_type": "markdown",
   "id": "b4807206-91d5-46ef-860f-7cdb828edf23",
   "metadata": {},
   "source": [
    "📌***permutation()** metodu yeniden düzenlenmiş bir dizi döndürür ve orijinal diziyi olduğu gibi bırakır.*"
   ]
  }
 ],
 "metadata": {
  "kernelspec": {
   "display_name": "Python 3 (ipykernel)",
   "language": "python",
   "name": "python3"
  },
  "language_info": {
   "codemirror_mode": {
    "name": "ipython",
    "version": 3
   },
   "file_extension": ".py",
   "mimetype": "text/x-python",
   "name": "python",
   "nbconvert_exporter": "python",
   "pygments_lexer": "ipython3",
   "version": "3.13.5"
  }
 },
 "nbformat": 4,
 "nbformat_minor": 5
}
