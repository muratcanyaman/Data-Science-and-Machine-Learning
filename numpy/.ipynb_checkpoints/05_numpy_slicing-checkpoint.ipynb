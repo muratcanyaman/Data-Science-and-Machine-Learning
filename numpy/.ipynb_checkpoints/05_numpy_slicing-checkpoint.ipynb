{
 "cells": [
  {
   "cell_type": "markdown",
   "id": "1f25a130-92b7-44af-a78f-a2332961b362",
   "metadata": {},
   "source": [
    "## NumPy'da Array Dilimleme (Array Slicing) 🚀\t"
   ]
  },
  {
   "cell_type": "markdown",
   "id": "831ca013-93c5-42ab-a050-df0247401081",
   "metadata": {},
   "source": [
    "## Dizi Dilimleme 🧠\t"
   ]
  },
  {
   "cell_type": "markdown",
   "id": "e5b77190-8770-438f-af3a-5c86d80cec07",
   "metadata": {},
   "source": [
    "ℹ️  *Python'da dilimleme; verilen bir indeks değerinden diğer indeks değerine kadarki elemanları alma işlemidir.*<br>\n",
    "ℹ️  *İndeks yerine dilimlemeyi şu şekilde yapıyoruz: **[start:end]***<br>\n",
    "ℹ️  *Ayrıca adım sayısını da tanımlayabiliriz: **[start:end:step]***<br>\n",
    "ℹ️  *Başlangıç değeri(start) varsayılan olarak 0'dır.*<br>\n",
    "ℹ️  *Bitiş(end) varsayılan olarak o boyuttaki dizi uzunluğu olarak kabul edilir.*<br>\n",
    "ℹ️  *Adım sayısı(step) varsayılan olarak 1'dir.*"
   ]
  },
  {
   "cell_type": "markdown",
   "id": "1df616bd-31e2-4bfb-a77e-988bf3421b7f",
   "metadata": {},
   "source": [
    "*index 1'den index 5'e kadar dilimleme işlemi yapalım:*"
   ]
  },
  {
   "cell_type": "code",
   "execution_count": 2,
   "id": "a1ec3750-4336-42a7-87c1-1c00884e6c7d",
   "metadata": {},
   "outputs": [
    {
     "name": "stdout",
     "output_type": "stream",
     "text": [
      "[2 3 4 5]\n"
     ]
    }
   ],
   "source": [
    "import numpy as np\n",
    "arr = np.array([1,2,3,4,5,6,7,8,9,10])\n",
    "print(arr[1:5])"
   ]
  },
  {
   "cell_type": "markdown",
   "id": "6d439d53-be7d-4f57-b661-9397900d7db4",
   "metadata": {},
   "source": [
    "⚠️ *Başlangıç değeri sonuca dahildir(inclusive).Bitiş değeri sonuca dahil değildir(exclusive).*<br>"
   ]
  },
  {
   "cell_type": "markdown",
   "id": "5f0a695f-46ed-43ee-a77f-7a259bc4c5df",
   "metadata": {},
   "source": [
    "*4'üncü indeks değerinden dizinin sonuna kadar dilimleme işlemi yapalım:*"
   ]
  },
  {
   "cell_type": "code",
   "execution_count": 3,
   "id": "7340a76e-47e5-4ce6-94a5-af0fc1b8e573",
   "metadata": {},
   "outputs": [
    {
     "name": "stdout",
     "output_type": "stream",
     "text": [
      "[5 6 7]\n"
     ]
    }
   ],
   "source": [
    "import numpy as np\n",
    "arr = np.array([1,2,3,4,5,6,7])\n",
    "print(arr[4:])"
   ]
  },
  {
   "cell_type": "markdown",
   "id": "4e020cfc-ab46-48b8-94c1-a81c54e18b9f",
   "metadata": {},
   "source": [
    "## Negatif Dilimleme (Negative Slicing) 🧠\t"
   ]
  },
  {
   "cell_type": "markdown",
   "id": "2adff365-50c2-43a3-9a90-8d675773e2a8",
   "metadata": {},
   "source": [
    "*Dizinin sonundan bir elemana erişmek istediğimizde - operatörünü kullanırız.*<br>"
   ]
  },
  {
   "cell_type": "markdown",
   "id": "98ce6c49-aabc-4a87-b4cd-4e198f8dbb76",
   "metadata": {},
   "source": [
    "*Sondan 3'üncü indeks elemanından sondan 1'inci elemana kadar slicing işlemi:*"
   ]
  },
  {
   "cell_type": "code",
   "execution_count": 4,
   "id": "da9ccafe-27c9-49c0-acff-2fc228c64048",
   "metadata": {},
   "outputs": [
    {
     "name": "stdout",
     "output_type": "stream",
     "text": [
      "[ 9 10]\n"
     ]
    }
   ],
   "source": [
    "import numpy as np\n",
    "arr = np.array([3,4,5,6,7,9,10,11])\n",
    "print(arr[-3:-1])"
   ]
  },
  {
   "cell_type": "markdown",
   "id": "b7e5f0fe-ba05-47ab-9ddf-a7d5dc03cb31",
   "metadata": {},
   "source": [
    "## STEP 🧠\t"
   ]
  },
  {
   "cell_type": "markdown",
   "id": "feec7b91-cade-4ecd-9778-540a54d0e7b0",
   "metadata": {},
   "source": [
    "***step** değerini slicing işlemini kaçar kaçar yapacağını belirtmek için kullanırız*."
   ]
  },
  {
   "cell_type": "markdown",
   "id": "1aed1e47-8a1b-4b03-bc71-7493ce7b7540",
   "metadata": {},
   "source": [
    "*1'inci indeks elemanı ile 5'inci indeks elemanı arasındaki bütün elemanları 2'şer 2'şer atlayarak döndür:*"
   ]
  },
  {
   "cell_type": "code",
   "execution_count": 5,
   "id": "3519ffd3-4500-46d6-a999-001bd3d462c1",
   "metadata": {},
   "outputs": [
    {
     "name": "stdout",
     "output_type": "stream",
     "text": [
      "[2 4]\n"
     ]
    }
   ],
   "source": [
    "import numpy as np\n",
    "arr = np.array([1,2,3,4,5,6,7,8,9,10])\n",
    "print(arr[1:5:2])"
   ]
  },
  {
   "cell_type": "markdown",
   "id": "2f178584-9412-4e67-ab13-a750923e9735",
   "metadata": {},
   "source": [
    "*Bütün diziyi 2'şer 2'şer atlayarak dönder:*"
   ]
  },
  {
   "cell_type": "code",
   "execution_count": 6,
   "id": "bc3bf635-86a6-4afc-bbf9-895162adea90",
   "metadata": {},
   "outputs": [
    {
     "name": "stdout",
     "output_type": "stream",
     "text": [
      "[1 3 5 7 9]\n"
     ]
    }
   ],
   "source": [
    "import numpy as np\n",
    "arr = np.array([1,2,3,4,5,6,7,8,9,10])\n",
    "print(arr[::2])"
   ]
  },
  {
   "cell_type": "markdown",
   "id": "ef53cd48-32c7-456b-b6ef-6537be63b4d1",
   "metadata": {},
   "source": [
    "## 2 Boyutlu Array'lerde Slicing 🔥\t"
   ]
  },
  {
   "cell_type": "markdown",
   "id": "97cfb75d-cf0c-4453-8b39-8cb51fac9975",
   "metadata": {},
   "source": [
    "*2'nci dizi elemanından,1'inci index değerinden 4'üncü index değerine kadar olan elemanlara slicing işlemi:*"
   ]
  },
  {
   "cell_type": "code",
   "execution_count": 8,
   "id": "c8bf32a6-9f60-410f-a8bd-9151c749c4e5",
   "metadata": {},
   "outputs": [
    {
     "name": "stdout",
     "output_type": "stream",
     "text": [
      "[7 8 9]\n"
     ]
    }
   ],
   "source": [
    "import numpy as np\n",
    "arr = np.array([[1,2,3,4,5], [6,7,8,9,10]])\n",
    "print(arr[1,1:4])"
   ]
  },
  {
   "cell_type": "markdown",
   "id": "440a7543-243e-456e-8790-c5762c9f9c87",
   "metadata": {},
   "source": [
    "⚠️ *İkinci elemanın([6,7,8,9,10]) index değerinin 1 olduğunu unutmayın*."
   ]
  },
  {
   "cell_type": "markdown",
   "id": "561551df-31d9-4953-b240-9d4b2e5bba3a",
   "metadata": {},
   "source": [
    "*Her iki elemandan 2'nci index elemanlarına slicing işlemi:*"
   ]
  },
  {
   "cell_type": "code",
   "execution_count": 10,
   "id": "fc967a49-dd2c-4388-ac67-7ab91731887f",
   "metadata": {},
   "outputs": [
    {
     "name": "stdout",
     "output_type": "stream",
     "text": [
      "[3 7]\n"
     ]
    }
   ],
   "source": [
    "import numpy as np\n",
    "arr = np.array([[1,2,3,4],[5,6,7,8]])\n",
    "print(arr[0:2,2])\n"
   ]
  },
  {
   "cell_type": "markdown",
   "id": "8ac9265e-2959-43f2-b493-cd65f0ec00a6",
   "metadata": {},
   "source": [
    "*Her iki elemandan,1'inci index değerinden 4'üncü index değeri(exclusive) arasındaki elemanları dilimle:*"
   ]
  },
  {
   "cell_type": "code",
   "execution_count": 13,
   "id": "67dfe589-df45-407e-9cb3-f00d7b45d1db",
   "metadata": {},
   "outputs": [
    {
     "name": "stdout",
     "output_type": "stream",
     "text": [
      "[[2 3 4]\n",
      " [6 7 8]]\n"
     ]
    }
   ],
   "source": [
    "import numpy as np\n",
    "arr = np.array([[1,2,3,4],[5,6,7,8]])\n",
    "print(arr[0:2,1:4])"
   ]
  }
 ],
 "metadata": {
  "kernelspec": {
   "display_name": "Python 3 (ipykernel)",
   "language": "python",
   "name": "python3"
  },
  "language_info": {
   "codemirror_mode": {
    "name": "ipython",
    "version": 3
   },
   "file_extension": ".py",
   "mimetype": "text/x-python",
   "name": "python",
   "nbconvert_exporter": "python",
   "pygments_lexer": "ipython3",
   "version": "3.13.5"
  }
 },
 "nbformat": 4,
 "nbformat_minor": 5
}
