{
 "cells": [
  {
   "cell_type": "markdown",
   "id": "22335f55-458b-4ffe-ae70-51c25f747d95",
   "metadata": {},
   "source": [
    "# Rastgele Veri Dağılımı 🚀"
   ]
  },
  {
   "cell_type": "markdown",
   "id": "334f79c0-32ec-4832-9f54-c77b97e593cc",
   "metadata": {},
   "source": [
    "ℹ️ *Rastgele Dağılım,bütün olası değerlerin her bir değerin ne sıklıkla ortaya çıktığının bir listesidir.*<br>\n",
    "ℹ️ *Böyle listeler İstatistik ve Veri Bilimi alanlarında çok önemli bir yere sahiptir.*<br>\n",
    "ℹ️ ***random** modülü rastgele üretilmiş veri dağılımları döndüren metodlar sunar.*"
   ]
  },
  {
   "cell_type": "markdown",
   "id": "421293d5-b8e3-46be-919e-a32736a2f76a",
   "metadata": {},
   "source": [
    "## Rastgele Dağılım 🧠"
   ]
  },
  {
   "cell_type": "markdown",
   "id": "7565f0c4-efc6-4686-8153-bc525ff810da",
   "metadata": {},
   "source": [
    "ℹ️ *Rastgele dağılım belli bir olasılık yoğunluk fonksiyonunu izleyen rastgele sayılar kümesidir.*<br>"
   ]
  },
  {
   "cell_type": "markdown",
   "id": "8084df83-d8c5-4f7f-9873-424b632a6984",
   "metadata": {},
   "source": [
    "📌 ***Olasılık Dağılım Fonksiyonu**: Sürekli olasılığı ifade eder.Örnek:Bir dizide bulunan bütün değerlerin olasılığı.*"
   ]
  },
  {
   "cell_type": "markdown",
   "id": "df8ede6d-f486-4aae-891c-5f6350cbd1eb",
   "metadata": {},
   "source": [
    "ℹ️ ***random** modülünde bulunan **choice()** metodunu kullanarak tanımlanmış olasılıklara bağlı rastgele sayılar üretebiliriz.*<br>\n",
    "ℹ️ ***choice()** metodu her bir değer için bize bir olasılık değeri sunar*<br>\n",
    "ℹ️ *Bu olasılık değerleri 0 ile 1 arasındadır.0'ın anlamı değer asla gerçekleşmeyecektir.1 değeri ise değer her zaman ortaya çıkacaktır anlamına gelir.*"
   ]
  },
  {
   "cell_type": "markdown",
   "id": "53936288-d648-46e2-9771-e3a88707ac5f",
   "metadata": {},
   "source": [
    "*Bütün bu anlattıklarımızı bir örnek üzerinden detaylı bir şekilde anlatalım:*"
   ]
  },
  {
   "cell_type": "markdown",
   "id": "3e28774c-ba5e-4085-8c07-cf1e9c901d13",
   "metadata": {},
   "source": [
    "*Her bir değerin 3,5,7 ve 9 rakamlarından oluştuğu 100 elemanlı 1 boyutlu bir dizi üretelim.*<br>\n",
    "*3 değerinin olma olasılığı 0.1*<br>\n",
    "*5 değerinin olma olasılığı 0.3*<br>\n",
    "*7 değerinin olma olasılığı 0.6*<br>\n",
    "*9 değerinin olmas olasılığı 0.0*<br>"
   ]
  },
  {
   "cell_type": "code",
   "execution_count": 1,
   "id": "be5b00ec-aa29-4929-92b6-2b568b7d22ae",
   "metadata": {},
   "outputs": [
    {
     "name": "stdout",
     "output_type": "stream",
     "text": [
      "[5 5 5 5 7 7 5 7 5 7 5 5 7 7 5 5 7 5 7 7 5 7 7 3 7 7 7 7 5 5 5 5 7 7 7 7 5\n",
      " 7 5 7 5 7 7 7 7 7 7 7 7 7 7 5 3 3 7 5 5 5 7 5 7 7 5 5 7 7 7 7 5 5 7 5 7 7\n",
      " 7 7 7 7 7 7 7 5 7 3 5 3 7 7 7 7 5 5 7 5 7 7 5 7 7 7]\n"
     ]
    }
   ],
   "source": [
    "from numpy import random\n",
    "\n",
    "arr = random.choice([3,5,7,9], p = [0.1, 0.3, 0.6, 0.0], size = 100)\n",
    "print(arr)"
   ]
  },
  {
   "cell_type": "markdown",
   "id": "603a0c20-f925-4502-8a78-70807da64789",
   "metadata": {},
   "source": [
    "⚠️ *Bütün olasılık değerlerinin toplamı her zaman 1 olmalıdır.*"
   ]
  },
  {
   "cell_type": "markdown",
   "id": "cb822d45-7dcc-4acb-adcd-242467904d96",
   "metadata": {},
   "source": [
    "📌 *Yukarıda yazmış olduğumuz kodu 100 defa dahi çalıştırsak bile 9 değeri asla oluşmayacaktır.*<br>\n",
    "📌 ***size** parametresi ile 2 boyutlu dizi döndürebileceğimizi görmüştük.Yukarıdaki örneği 2 boyutlu diziye uyarlayalım.*"
   ]
  },
  {
   "cell_type": "code",
   "execution_count": 5,
   "id": "e0992897-0f0c-4c16-af2b-7036cdfc6014",
   "metadata": {},
   "outputs": [
    {
     "name": "stdout",
     "output_type": "stream",
     "text": [
      "[[5 7 7 5 5]\n",
      " [7 5 7 3 5]\n",
      " [7 7 7 7 7]]\n"
     ]
    }
   ],
   "source": [
    "# Yukarıdaki örnek ile aynı fakat bu sefer 3x5 elemanlı 2 boyutlu dizi üretmiş olacağız.\n",
    "from numpy import random\n",
    "arr = random.choice([3,5,7,9], p = [0.1, 0.3, 0.6, 0.0], size = (3,5))\n",
    "print(arr)"
   ]
  }
 ],
 "metadata": {
  "kernelspec": {
   "display_name": "Python 3 (ipykernel)",
   "language": "python",
   "name": "python3"
  },
  "language_info": {
   "codemirror_mode": {
    "name": "ipython",
    "version": 3
   },
   "file_extension": ".py",
   "mimetype": "text/x-python",
   "name": "python",
   "nbconvert_exporter": "python",
   "pygments_lexer": "ipython3",
   "version": "3.13.5"
  }
 },
 "nbformat": 4,
 "nbformat_minor": 5
}
