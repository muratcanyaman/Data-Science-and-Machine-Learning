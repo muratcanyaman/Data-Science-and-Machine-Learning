{
 "cells": [
  {
   "cell_type": "markdown",
   "id": "bec14b5c-8e84-4112-b0fa-0b6344c1edfb",
   "metadata": {},
   "source": [
    "# NumPy Dizisi Oluşturmak 🚀\t"
   ]
  },
  {
   "cell_type": "markdown",
   "id": "3f1f153f-85c8-4475-b4cf-3717dcbb6238",
   "metadata": {},
   "source": [
    "## NumPy ndarray nesnesi oluşturmak 🧠\t"
   ]
  },
  {
   "cell_type": "markdown",
   "id": "7bf01631-97cf-4049-832b-d4b4259b0d42",
   "metadata": {},
   "source": [
    "ℹ️\t*NumPy array'ler ile çalışmak için kullanılır.Numpy'daki array nesnesi **ndarray** olarak adlandırılır.*<br>\n",
    "ℹ️\t*Numpy **ndarray** nesnesi oluşturmak için **array()** fonksiyonunu çağırırız:*<br>"
   ]
  },
  {
   "cell_type": "code",
   "execution_count": 4,
   "id": "e0906ecd-5199-4972-9c48-8160594c9ce9",
   "metadata": {},
   "outputs": [
    {
     "name": "stdout",
     "output_type": "stream",
     "text": [
      "[1 2 3 4 5]\n",
      "<class 'numpy.ndarray'>\n"
     ]
    }
   ],
   "source": [
    "import numpy as np\n",
    "arr = np.array([1,2,3,4,5])\n",
    "print(arr)\n",
    "print(type(arr))"
   ]
  },
  {
   "cell_type": "markdown",
   "id": "a6c0d5cd-82c1-44e1-bd5d-e95ff629d9d7",
   "metadata": {},
   "source": [
    "📌 ***type()** : Python'daki bu yerleşik fonksiyon bize içerisine geçirdiğimiz nesnenin tipini döndürür.Üstteki örnekte olduğu gibi ndarray nesnesinin tipini bize 'numpy.ndarray' olarak döndürdü.*"
   ]
  },
  {
   "cell_type": "markdown",
   "id": "7d3a4dfb-e694-4ff9-ae55-a7ced9e19386",
   "metadata": {},
   "source": [
    "ℹ️ *ndarray nesnesi oluştururken, **array()** fonksiyonu içerisine liste,tuple veya herhangi bir dizi benzeri nesneyi input olarak verebiliriz.Fonksiyon verilen input'u ndarray nesnesine dönüştürecektir:*"
   ]
  },
  {
   "cell_type": "code",
   "execution_count": 5,
   "id": "143e5b25-4cdd-42bd-ba90-bb3c7cfd37ba",
   "metadata": {},
   "outputs": [
    {
     "name": "stdout",
     "output_type": "stream",
     "text": [
      "[1 2 3 4 5]\n",
      "<class 'numpy.ndarray'>\n"
     ]
    }
   ],
   "source": [
    "import numpy as np\n",
    "arr = np.array((1,2,3,4,5))\n",
    "print(arr)\n",
    "print(type(arr))"
   ]
  },
  {
   "cell_type": "markdown",
   "id": "170a432d-ace6-4569-a80b-a11d479d8a68",
   "metadata": {},
   "source": [
    "## Array'lerde Boyut 🧠\t"
   ]
  },
  {
   "cell_type": "markdown",
   "id": "53d74c73-2d38-4f4c-96da-8a4f586ba3c8",
   "metadata": {},
   "source": [
    "ℹ️\t*Dizilerde boyut,dizi derinliğinin bir seviyesidir(İç içe diziler):*"
   ]
  },
  {
   "cell_type": "markdown",
   "id": "2d18190d-f54b-4e99-b534-a4bd58acea0f",
   "metadata": {},
   "source": [
    "📌\t*iç içe diziler : İçerisinde dizileri eleman olarak barındıran diziler.*"
   ]
  },
  {
   "cell_type": "markdown",
   "id": "961da7b7-ce66-4db9-937e-fc731157714a",
   "metadata": {},
   "source": [
    "## 0 Boyutlu Diziler 🧠\t"
   ]
  },
  {
   "cell_type": "markdown",
   "id": "4ceb6623-3a53-4a93-9ee8-810c0fd8caa9",
   "metadata": {},
   "source": [
    "ℹ️\t*0-D diziler ya da skalerler,dizi içerisindeki elemanların kendisidir.Yani her eleman aslında 0 boyutlu bir dizi oluyor.*"
   ]
  },
  {
   "cell_type": "code",
   "execution_count": 8,
   "id": "154bd3f1-b405-41df-93fa-4f2186b458ff",
   "metadata": {},
   "outputs": [
    {
     "name": "stdout",
     "output_type": "stream",
     "text": [
      "50\n"
     ]
    }
   ],
   "source": [
    "import numpy as np\n",
    "arr = np.array(50)\n",
    "print(arr)"
   ]
  },
  {
   "cell_type": "markdown",
   "id": "80a5c36e-98a7-4e2f-8e08-92058c7ae494",
   "metadata": {},
   "source": [
    "## 1 Boyutlu Diziler 🧠\t"
   ]
  },
  {
   "cell_type": "markdown",
   "id": "88ce746c-14aa-4ad8-a786-e31c46057c1f",
   "metadata": {},
   "source": [
    "ℹ️  *Elemanları 0 boyutlu dizilerden oluşan dizilerdir.Tek boyutlu veya 1 boyutlu dizi olarak adlandırılır.*<br>\n",
    "ℹ️  *En yaygın ve basit dizilerdir.*<br>"
   ]
  },
  {
   "cell_type": "code",
   "execution_count": 10,
   "id": "c9bd718d-e37c-40e5-ace8-4a01bf23f65c",
   "metadata": {},
   "outputs": [
    {
     "name": "stdout",
     "output_type": "stream",
     "text": [
      "[1 2 3 4 5]\n"
     ]
    }
   ],
   "source": [
    "import numpy as np\n",
    "arr = np.array([1,2,3,4,5])\n",
    "print(arr)"
   ]
  },
  {
   "cell_type": "markdown",
   "id": "eb68cbe0-5bfc-4e4c-9ae6-0fc77cbc2881",
   "metadata": {},
   "source": [
    "## 2 Boyutlu Diziler 🧠\t"
   ]
  },
  {
   "cell_type": "markdown",
   "id": "94b9905e-8d9e-4a26-ac48-1fcf79f8a314",
   "metadata": {},
   "source": [
    "ℹ️\t*Elemanları 1 boyutlu dizilerden oluşan dizilerdir.*<br>\n",
    "ℹ️\t*Genellikle matrisleri ve 2'nci dereceden tensörleri temsil etmek için kullanılırlar*.<br>"
   ]
  },
  {
   "cell_type": "markdown",
   "id": "ba6a20cb-a2ac-4daf-be38-260676d4d246",
   "metadata": {},
   "source": [
    "📌\t ***Tensör**: Skalerler,vektörler veya matrisler gibi fiziksel özellikleri tanımlamak için kullanılan matematiksel nesnelerdir.Bir skaler sıfırıncı dereceden bir tensör,bir vektör birinci dereceden tensördür.* "
   ]
  },
  {
   "cell_type": "markdown",
   "id": "1a202028-4fe0-4b97-8941-23726101a0b8",
   "metadata": {},
   "source": [
    "📌 *NumPy içerisinde numpy.mat adlı matrix üzerinde çeşitli operasyonlar yapabildiğimiz bir modüle sahiptir.*"
   ]
  },
  {
   "cell_type": "markdown",
   "id": "092fa43a-8869-423d-afc8-2eb03d920664",
   "metadata": {},
   "source": [
    "*Örnek olarak sırasıyla 1,2,3 ve 4,5,6 elemanlarını içeren, 2 tane dizi elemanından oluşan 2 boyutlu bir dizi oluşturalım:*"
   ]
  },
  {
   "cell_type": "code",
   "execution_count": 13,
   "id": "b3177d9e-665a-4fb9-b731-a7d039ecadf9",
   "metadata": {},
   "outputs": [
    {
     "name": "stdout",
     "output_type": "stream",
     "text": [
      "[[1 2 3]\n",
      " [4 5 6]]\n"
     ]
    }
   ],
   "source": [
    "import numpy as np\n",
    "arr = np.array([[1,2,3], [4,5,6]])\n",
    "print(arr)"
   ]
  },
  {
   "cell_type": "markdown",
   "id": "5860a0cb-5311-41fa-a521-c438bd30ca0b",
   "metadata": {},
   "source": [
    "*Yukarıdaki çıktı 2x3'lük bir matristir.*"
   ]
  },
  {
   "cell_type": "markdown",
   "id": "3fd232fa-57e6-4ac6-ba29-1156b1128dca",
   "metadata": {},
   "source": [
    "## 3 Boyutlu Diziler 🧠\t"
   ]
  },
  {
   "cell_type": "markdown",
   "id": "b9500707-ac76-4a2e-886e-d48c8e8c61c3",
   "metadata": {},
   "source": [
    "ℹ️\t*İçerisinde eleman olarak 2 boyutlu dizileri(matris) içeren diziler 3 boyutlu dizi adını alır*<br>\n",
    "ℹ️\t*Üçüncü dereceden tensörleri temsil etmek için sıkça kullanılır.*"
   ]
  },
  {
   "cell_type": "markdown",
   "id": "50e61431-9a5e-43e5-b27d-537616b3c717",
   "metadata": {},
   "source": [
    "*İçerisinde 2 boyutlu iki tane dizi içeren 3 boyutlu bir dizi oluşturalım.Her iki matrisin elemanları 1,2,3 ve 4,5,6 olsun.:*"
   ]
  },
  {
   "cell_type": "code",
   "execution_count": 17,
   "id": "7fafaacd-f464-4845-a897-b948d062f0c7",
   "metadata": {},
   "outputs": [
    {
     "name": "stdout",
     "output_type": "stream",
     "text": [
      "[[[1 2 3]\n",
      "  [4 5 6]]\n",
      "\n",
      " [[1 2 3]\n",
      "  [4 5 6]]]\n"
     ]
    }
   ],
   "source": [
    "import numpy as np\n",
    "arr = np.array([[[1,2,3], [4,5,6]], [[1,2,3], [4,5,6]]])\n",
    "print(arr)"
   ]
  },
  {
   "cell_type": "markdown",
   "id": "13cc236b-2bf0-440b-95a7-667f5d31283a",
   "metadata": {},
   "source": [
    "*Yukarıdaki çıktıyı detaylıca inceleyelim.3 boyutlu dizimizin 0'ncı index'inde 2x3'lük bir matris,1'inci index'inde yine 2x3'lük bir matris vardır.*"
   ]
  },
  {
   "cell_type": "markdown",
   "id": "74db6089-4f2c-4a8c-9d1e-79d9d66b0515",
   "metadata": {},
   "source": [
    "# Boyut Sayısını Kontrol Etmek ! 🔥"
   ]
  },
  {
   "cell_type": "code",
   "execution_count": 21,
   "id": "295af5b3-7413-445c-a8cb-23057bd7b100",
   "metadata": {},
   "outputs": [
    {
     "name": "stdout",
     "output_type": "stream",
     "text": [
      "arr0 dizisinin boyutu : 0\n",
      "arr1 dizisinin boyutu : 1\n",
      "arr2 dizisinin boyutu : 2\n",
      "arr3 dizisinin boyutu : 3\n"
     ]
    }
   ],
   "source": [
    "import numpy as np\n",
    "\n",
    "arr0 = np.array(55)\n",
    "arr1 = np.array([2,3,5,6])\n",
    "arr2 = np.array([[1,3,5], [7,8,9]])\n",
    "arr3 = np.array([[[1,2,4],[5,9,11]], [[3,8,6], [9,11,15]]])\n",
    "print(\"arr0 dizisinin boyutu : \" + str(np.ndim(arr0)))\n",
    "print(\"arr1 dizisinin boyutu : \" + str(np.ndim(arr1)))\n",
    "print(\"arr2 dizisinin boyutu : \" + str(np.ndim(arr2)))\n",
    "print(\"arr3 dizisinin boyutu : \" + str(np.ndim(arr3)))"
   ]
  },
  {
   "cell_type": "markdown",
   "id": "22e84381-6715-44bf-802c-5ec732ac65c7",
   "metadata": {},
   "source": [
    "# Yüksek Boyutlu Diziler 🧠\t"
   ]
  },
  {
   "cell_type": "markdown",
   "id": "cdd24c87-b0a1-432b-91fa-ee20e2b943a0",
   "metadata": {},
   "source": [
    "📌 *Bir dizi çok yüksek sayıda boyuta sahip olabilir.Bunu parametre olarak dizi oluştururken argüman olarak verebiliriz.*"
   ]
  },
  {
   "cell_type": "code",
   "execution_count": 24,
   "id": "1ec36cd9-bd3f-44dc-8022-75e94c4315df",
   "metadata": {},
   "outputs": [
    {
     "name": "stdout",
     "output_type": "stream",
     "text": [
      "[[[[[10 20 30 40 50]]]]]\n",
      "5\n"
     ]
    }
   ],
   "source": [
    "import numpy as np\n",
    "arr = np.array([10,20,30,40,50], ndmin = 5)\n",
    "print(arr)\n",
    "print(arr.ndim)"
   ]
  },
  {
   "cell_type": "markdown",
   "id": "84fc5527-3816-42c4-a496-d14ba8b92f68",
   "metadata": {},
   "source": [
    "🔍*Yukarıdaki çıktıyı inceleyelim:*<br>\n",
    "   *En içteki boyut(yani 5'inci boyut),içerisinde 4 eleman barındıyor ve bu her bir eleman sıfır boyutlu bir dizi.*<br>\n",
    "   *4'üncü boyut, içerisinde 1 elemandan oluşan bir vektör içerir.*<br>\n",
    "   *3'üncü boyut, içerisinde bir matris ve bir vektör barındırıyor.*<br>\n",
    "   *2'nci boyut, içerisinde 3 boyutlu bir dizi barındırıyor.*<br>\n",
    "   *Son olarak 1'nci, boyut içerisinde 4 boyutlu bir dizi barındırıyor. Kafa karıştırıcı ama üzerinde durunca gayet anlaşılabilir olduğunu       görebilirsiniz.*"
   ]
  }
 ],
 "metadata": {
  "kernelspec": {
   "display_name": "Python 3 (ipykernel)",
   "language": "python",
   "name": "python3"
  },
  "language_info": {
   "codemirror_mode": {
    "name": "ipython",
    "version": 3
   },
   "file_extension": ".py",
   "mimetype": "text/x-python",
   "name": "python",
   "nbconvert_exporter": "python",
   "pygments_lexer": "ipython3",
   "version": "3.13.5"
  }
 },
 "nbformat": 4,
 "nbformat_minor": 5
}
