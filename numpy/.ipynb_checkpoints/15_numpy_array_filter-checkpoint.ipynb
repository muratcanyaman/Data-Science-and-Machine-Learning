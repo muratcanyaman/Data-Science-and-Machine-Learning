{
 "cells": [
  {
   "cell_type": "markdown",
   "id": "730eba94-176f-400f-9e67-9a3a150961c7",
   "metadata": {},
   "source": [
    "# NumPy Dizi Filtreleme 🚀"
   ]
  },
  {
   "cell_type": "markdown",
   "id": "55488510-a79e-4182-9a6a-e83b3071065f",
   "metadata": {},
   "source": [
    "## Dizi Filtreleme 🧠"
   ]
  },
  {
   "cell_type": "markdown",
   "id": "00526904-2485-49b4-af9c-cf3c7b6e6459",
   "metadata": {},
   "source": [
    "ℹ️ *Mevcut bir diziden birtakım elemanlar çekip daha sonra bu çektiğimiz elemanlarla yeni bir dizi oluşturma işlemi **Filtreleme** olarak adlandırılır.*<br>\n",
    "ℹ️ *NumPy'da **boolean indeksli liste** kullanarak bu filtreleme işlemi gerçekleştirilir.*"
   ]
  },
  {
   "cell_type": "markdown",
   "id": "e4a851d1-1003-460a-b8b0-eb41cbfc11cb",
   "metadata": {},
   "source": [
    "📌 ***Boolean inkdeksli liste**,boolean elemanlardan oluşan ve bu elemanların dizi indekslerine karşılık geldiği listelerdir.*"
   ]
  },
  {
   "cell_type": "markdown",
   "id": "bf2f3294-8c43-4966-b609-a86370b17f7e",
   "metadata": {},
   "source": [
    "📌 *Eğer index değeri **True** ise o eleman filtrelenmiş diziye dahil olacak demektir.Eğer index değeri **False** ise o eleman filtrelenmiş dizinin dışına atılacak demektir.*"
   ]
  },
  {
   "cell_type": "code",
   "execution_count": 1,
   "id": "9fd310ae-83a1-4fed-b007-7f1be642f7a6",
   "metadata": {},
   "outputs": [
    {
     "name": "stdout",
     "output_type": "stream",
     "text": [
      "[20 30]\n"
     ]
    }
   ],
   "source": [
    "# Sadece index 0 ve index 2 değerlerinden oluşan bir dizi oluşturalım\n",
    "import numpy as np\n",
    "arr = np.array([20,40,30,42])\n",
    "x = [True,False,True,False]\n",
    "\n",
    "new_arr = arr[x]\n",
    "print(new_arr)"
   ]
  },
  {
   "cell_type": "markdown",
   "id": "c6272327-f293-4ddc-a33d-668f1daa8689",
   "metadata": {},
   "source": [
    "*Yukarıdaki örnekte booelan indeksli listedeki **True** değerlere karşılık gelen elemanları çektik ve yeni diziye atadık.*"
   ]
  },
  {
   "cell_type": "markdown",
   "id": "a45b3dfe-e9e9-4307-b9cb-8a68c81756ba",
   "metadata": {},
   "source": [
    "## Filtrelenmiş Dizi Oluşturma 🧠"
   ]
  },
  {
   "cell_type": "markdown",
   "id": "9a67e7f1-ef7d-4232-b118-b3deecfeb1d8",
   "metadata": {},
   "source": [
    "*Birazdan yapacağımız örnek,genel olarak filtreleme işleminde tercih edilen bir yöntemle olacak.*"
   ]
  },
  {
   "cell_type": "code",
   "execution_count": 3,
   "id": "aa9e701a-9014-4c88-816d-fa80aa9b2f1e",
   "metadata": {},
   "outputs": [
    {
     "name": "stdout",
     "output_type": "stream",
     "text": [
      "[43 44]\n"
     ]
    }
   ],
   "source": [
    "# 42 değerinden büyük değerleri içeren bir filtre dizisi oluşturalım:\n",
    "\n",
    "import numpy as np\n",
    "arr = np.array([41,42,43,44])\n",
    "\n",
    "# Boş filtre dizisi oluşturalım\n",
    "filter_arr = []\n",
    "\n",
    "# arr dizisindeki elemanları tek tek iterate ediyoruz\n",
    "for element in arr:\n",
    "    # Eğer eleman değeri 42'den büyükse filter_arr nesnesine eleman olarak True eklenecek\n",
    "    if element > 42:\n",
    "        filter_arr.append(True)\n",
    "    # Eğer eleman değeri 42'den küçük veya eşitse o elemean filtre dizisine False olarak eklenecek\n",
    "    else:\n",
    "        filter_arr.append(False)\n",
    "\n",
    "new_arr = arr[filter_arr]\n",
    "print(new_arr)"
   ]
  },
  {
   "cell_type": "markdown",
   "id": "ec03eeb3-2d5e-442f-a664-578ca562a964",
   "metadata": {},
   "source": [
    "*Bir örnek daha yapalım.Bu sefer sadece çift elemanları döndüren bir filtre dizisi oluşturalım:*"
   ]
  },
  {
   "cell_type": "code",
   "execution_count": 4,
   "id": "f012e7cb-18e9-4462-837c-e34b48987b9e",
   "metadata": {},
   "outputs": [
    {
     "name": "stdout",
     "output_type": "stream",
     "text": [
      "[ 0  2  4  6  8 10]\n"
     ]
    }
   ],
   "source": [
    "import numpy as np\n",
    "arr = np.array([0,1,2,3,4,5,6,7,8,9,10,11])\n",
    "\n",
    "# Boş filtre dizisi\n",
    "filter_arr = []\n",
    "\n",
    "# Dizi içerisinde dolaşma\n",
    "for element in arr:\n",
    "    # Eğer eleman değeri 2'ye tam bölünürse filtre dizisine True değeri eklenecek\n",
    "    if element % 2 == 0:\n",
    "        filter_arr.append(True)\n",
    "    # Eğer eleman değeri 2'ye bölünmüyorsa filtre dizisine bu False değeri olarak eklenecek\n",
    "    else:\n",
    "        filter_arr.append(False)\n",
    "\n",
    "new_arr = arr[filter_arr]\n",
    "print(new_arr)"
   ]
  },
  {
   "cell_type": "markdown",
   "id": "3c4b07b7-d5ce-414b-b6d0-033fb7f77406",
   "metadata": {},
   "source": [
    "## Direkt Olarak Dizi Üzerinden Filtreleme 🧠"
   ]
  },
  {
   "cell_type": "markdown",
   "id": "8fb7becb-e202-461c-86d2-3cd690d7606f",
   "metadata": {},
   "source": [
    "ℹ️ *Yukarıdaki örnekler NumPy'da oldukça yaygın bir şekilde  kullanılıyor ve mücadele etmek için güzel bir yol.*<br>\n",
    "ℹ️ *Fakat böyle şartlı döngüler kullanmak yerine diziyi direkt olarak ikame edebiliriz ve beklediğimiz bir şekilde çalışır.*"
   ]
  },
  {
   "cell_type": "code",
   "execution_count": 5,
   "id": "ef6d4a62-8d97-43e1-a22d-c9cf0246d50e",
   "metadata": {},
   "outputs": [
    {
     "name": "stdout",
     "output_type": "stream",
     "text": [
      "[33 34 35]\n"
     ]
    }
   ],
   "source": [
    "# 32'den büyük elemanları çekelim ve boş diziye filtreleme yoluyla atayalım\n",
    "import numpy as np\n",
    "arr = np.array([30,31,32,33,34,35])\n",
    "filter_arr = arr > 32\n",
    "new_arr = arr[filter_arr]\n",
    "print(new_arr)"
   ]
  },
  {
   "cell_type": "code",
   "execution_count": 13,
   "id": "dd13710c-42e3-4d17-9af9-b8d3163500bb",
   "metadata": {},
   "outputs": [
    {
     "name": "stdout",
     "output_type": "stream",
     "text": [
      "[ 2  4  6  8 10]\n"
     ]
    }
   ],
   "source": [
    "# Çift olan elemanları yeni diziye eleman olarak ekleyelim\n",
    "import numpy as np\n",
    "arr = np.array([1,2,3,4,5,6,7,8,9,10])\n",
    "filter_arr = arr % 2 == 0\n",
    "new_arr = arr[filter_arr]\n",
    "print(new_arr)"
   ]
  },
  {
   "cell_type": "code",
   "execution_count": null,
   "id": "cc5b1f30-e678-4838-bc50-98d159b722fe",
   "metadata": {},
   "outputs": [],
   "source": []
  }
 ],
 "metadata": {
  "kernelspec": {
   "display_name": "Python 3 (ipykernel)",
   "language": "python",
   "name": "python3"
  },
  "language_info": {
   "codemirror_mode": {
    "name": "ipython",
    "version": 3
   },
   "file_extension": ".py",
   "mimetype": "text/x-python",
   "name": "python",
   "nbconvert_exporter": "python",
   "pygments_lexer": "ipython3",
   "version": "3.13.5"
  }
 },
 "nbformat": 4,
 "nbformat_minor": 5
}
