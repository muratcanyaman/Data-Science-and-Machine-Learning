{
 "cells": [
  {
   "cell_type": "markdown",
   "id": "82fba4cf-42d6-4692-b60c-ef724aa05866",
   "metadata": {},
   "source": [
    "# NumPy Dizilerinde Copy vs View 🚀\t"
   ]
  },
  {
   "cell_type": "markdown",
   "id": "e3637c96-e85b-4eca-832f-b503bfdf2e74",
   "metadata": {},
   "source": [
    "## Copy ve View Arasındaki Farklılıklar 🧠\t"
   ]
  },
  {
   "cell_type": "markdown",
   "id": "50b6d99c-1886-4eb8-ad93-ec031a1c0784",
   "metadata": {},
   "source": [
    "ℹ️ ***copy** ve **view** arasındaki temel farklılık; **copy** yeni bir dizidir,**view** ise orijinal dizinin bir görünümüdür.*<br>\n",
    "ℹ️ ***copy** kendi verisine sahiptir,ve kopya dizi üzerindeki herhangi bir değişiklik orijinal diziyi etkilemez,aynı şekilde orijinal dizi üzerindeki herhangi bir değişiklik yine kopya diziyi etkilemez.Birbirinden bağımsız birer nesnelerdir.*<br>\n",
    "ℹ️ ***view**'in ise kendi verisi yoktur ve **copy**'nin aksine üzerinde yapılan değişiklikler orijinal dizinin durumunu etkiler.Orijinal dizi üzerindeki değişiklikler yine **view**'i etkiler.*"
   ]
  },
  {
   "cell_type": "markdown",
   "id": "90aeeab0-b006-4ce3-8482-345fc83c065b",
   "metadata": {},
   "source": [
    "## COPY 🧠"
   ]
  },
  {
   "cell_type": "markdown",
   "id": "8fa7840b-0314-4c38-a213-db872da0c0d7",
   "metadata": {},
   "source": [
    "💻 *Bir kopya oluşturalım,orijinal diziyi değiştirelim ve iki diziyi de ekrana bastıralım:*"
   ]
  },
  {
   "cell_type": "code",
   "execution_count": 2,
   "id": "3eaf9b92-9f4a-4923-a8cb-cb269518c161",
   "metadata": {},
   "outputs": [
    {
     "name": "stdout",
     "output_type": "stream",
     "text": [
      "[100   3   4   5]\n",
      "[2 3 4 5]\n"
     ]
    }
   ],
   "source": [
    "import numpy as np\n",
    "arr = np.array([2,3,4,5])\n",
    "arr_copy = arr.copy()\n",
    "arr[0] = 100\n",
    "print(arr)\n",
    "print(arr_copy)"
   ]
  },
  {
   "cell_type": "markdown",
   "id": "014802fb-7717-4120-9482-e609f81a25db",
   "metadata": {},
   "source": [
    "⚠️ *Orijinal dizideki hiçbir değişiklik kopyalanmış diziyi etkilememelidir.* "
   ]
  },
  {
   "cell_type": "markdown",
   "id": "a44db5e4-3d7a-4ca5-8968-34027602b7fe",
   "metadata": {},
   "source": [
    "## VIEW 🧠\t"
   ]
  },
  {
   "cell_type": "markdown",
   "id": "d0b9d1c5-c931-444c-95d9-714ddc3efa59",
   "metadata": {},
   "source": [
    "💻\t*Bir view oluşturalım,orijinal diziyi değiştirelim ve ikisini de ekrana bastıralım:*"
   ]
  },
  {
   "cell_type": "code",
   "execution_count": 3,
   "id": "63937e79-5c74-4a18-b8eb-66479e5bf6a2",
   "metadata": {},
   "outputs": [
    {
     "name": "stdout",
     "output_type": "stream",
     "text": [
      "[155  12  13  14  15]\n",
      "[155  12  13  14  15]\n"
     ]
    }
   ],
   "source": [
    "import numpy as np\n",
    "arr = np.array([11,12,13,14,15])\n",
    "varr = arr.view()\n",
    "arr[0] = 155\n",
    "print(arr)\n",
    "print(varr)"
   ]
  },
  {
   "cell_type": "markdown",
   "id": "33daf70f-021a-4640-97ca-78fe71ef198d",
   "metadata": {},
   "source": [
    "⚠️\t*view orijinal dizideki değişikliklerden etkilenmelidir.Çünkü view orijinal diziyi referans alıyor.*"
   ]
  },
  {
   "cell_type": "markdown",
   "id": "daf5e30f-6fc3-428e-9a17-14bfee2d0f60",
   "metadata": {},
   "source": [
    "# View'de Değişiklikler Yapalım 🧠\t"
   ]
  },
  {
   "cell_type": "markdown",
   "id": "cc33b468-3a15-4866-8636-0fbf591983ca",
   "metadata": {},
   "source": [
    "💻 *Bir view oluşturalın,view'de değişiklikler yapalım ve iki diziyi de ekrana bastıralım:*"
   ]
  },
  {
   "cell_type": "code",
   "execution_count": 4,
   "id": "82787c23-b7cf-4182-a2a1-22bd6bcaefd4",
   "metadata": {},
   "outputs": [
    {
     "name": "stdout",
     "output_type": "stream",
     "text": [
      "[10 20 30 -1]\n",
      "[10 20 30 -1]\n"
     ]
    }
   ],
   "source": [
    "import numpy as np\n",
    "arr = np.array([10,20,30,40])\n",
    "varr = arr.view()\n",
    "varr[3] = -1\n",
    "print(arr)\n",
    "print(varr)"
   ]
  },
  {
   "cell_type": "markdown",
   "id": "6590f3cd-998a-4d2d-9d55-779d6046ca31",
   "metadata": {},
   "source": [
    "⚠️\t*Orijinal dizi view'de yapılan değişikliklerden etkilenmelidir.*"
   ]
  },
  {
   "cell_type": "markdown",
   "id": "383e574f-de91-4c69-a3db-c5a51ea76f52",
   "metadata": {},
   "source": [
    "## Dizinin Kendi Verisine Sahip Olup Olmadığını Kontrol Etme 🧠\t"
   ]
  },
  {
   "cell_type": "markdown",
   "id": "539aa0e3-7e05-4aa7-a894-c536605b3215",
   "metadata": {},
   "source": [
    "ℹ️\t*Yukarıda bahsedildiği gibi, kopyalar kendi verisine sahiptir,view'lar ise kendi verisine sahip değildir.Peki nasıl kontrol edebiliriz?*<br>\n",
    "ℹ️\t*Her bir NumPy dizisi, kendi verisine sahip diziler için **None** değeri döndüren **base** özniteliğine sahiptir.*<br>\n",
    "ℹ️\t*Diğer bir deyişle **base** özniteliği orijinal diziyi ifade eder.*"
   ]
  },
  {
   "cell_type": "markdown",
   "id": "8b96004a-2597-4d40-a775-a2ddd24baa95",
   "metadata": {},
   "source": [
    "*Bir dizinin kendi verisine sahip olup olmadığını kontrol etmek için **base** özniteliğini kullanalım:*"
   ]
  },
  {
   "cell_type": "code",
   "execution_count": 5,
   "id": "86573387-91ce-4993-a4ed-a8fe3e3d0e54",
   "metadata": {},
   "outputs": [
    {
     "name": "stdout",
     "output_type": "stream",
     "text": [
      "None\n",
      "[2 3 4 5]\n"
     ]
    }
   ],
   "source": [
    "import numpy as np\n",
    "arr = np.array([2,3,4,5])\n",
    "x = arr.copy()\n",
    "y = arr.view()\n",
    "\n",
    "print(x.base)\n",
    "print(y.base)"
   ]
  },
  {
   "cell_type": "markdown",
   "id": "13189e4f-f4e2-492a-be97-82a3035661de",
   "metadata": {},
   "source": [
    "*Tanımda da bahsettiğimiz gibi copy() ile oluşturulmuş dizi nesnesi için None değeri döndü.view() ile oluşturduğumuz dizi nesnesi orijinal diziyi döndürdü.*"
   ]
  }
 ],
 "metadata": {
  "kernelspec": {
   "display_name": "Python 3 (ipykernel)",
   "language": "python",
   "name": "python3"
  },
  "language_info": {
   "codemirror_mode": {
    "name": "ipython",
    "version": 3
   },
   "file_extension": ".py",
   "mimetype": "text/x-python",
   "name": "python",
   "nbconvert_exporter": "python",
   "pygments_lexer": "ipython3",
   "version": "3.13.5"
  }
 },
 "nbformat": 4,
 "nbformat_minor": 5
}
