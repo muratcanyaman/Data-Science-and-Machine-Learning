{
 "cells": [
  {
   "cell_type": "markdown",
   "id": "8ebdb01c-8aa3-4dd4-9b5d-a5f659e25e9c",
   "metadata": {},
   "source": [
    "## NumPy'da Veri Tipleri 🚀"
   ]
  },
  {
   "cell_type": "markdown",
   "id": "52bbc17a-5b07-40b9-916c-38b32cbd6c39",
   "metadata": {},
   "source": [
    "## Python'da Veri Tipleri 🧠\t"
   ]
  },
  {
   "cell_type": "markdown",
   "id": "c824f0d1-fb13-434f-83b7-d0def7541fdc",
   "metadata": {},
   "source": [
    "ℹ️\t*Python'da varsayılan olarak bulunan veri tipleri :*"
   ]
  },
  {
   "cell_type": "markdown",
   "id": "c981e5c0-ed09-4185-b2a4-4a031e0b6071",
   "metadata": {},
   "source": [
    "***Strings:** Metin verisini temsil etmek için kullanılır.Metin tırnak işareti içerisinde verilir.Ör:\"Python\"*<br>\n",
    "***integer:** İnteger sayıların temsilinde kullanılır.Ör:1,2,3,-1,-2,-3*<br>\n",
    "***float:** Gerçel sayıları temsil etmek için kullanılır.Ör:3.41,77.88*<br>\n",
    "***boolean:** True ve False temsilinde kullanılır.*<br>\n",
    "***complex:** Karmaşık sayıların temsilinde kullanılır.Ör: 2+3j,4+9j*"
   ]
  },
  {
   "cell_type": "markdown",
   "id": "210c0426-8cd0-4348-b156-0ca891bcbf73",
   "metadata": {},
   "source": [
    "## NumPy'da Veri Tipleri 🧠\t"
   ]
  },
  {
   "cell_type": "markdown",
   "id": "1e9bc6c9-49a0-436c-adb8-8526b7e89ccc",
   "metadata": {},
   "source": [
    "ℹ️\t*Numpy ekstra veri tiplerine sahiptir,ve bu veri tipleri bir harflik karakterler ile temsil edilirler.*<br>\n",
    "ℹ️\t*Örneğin integer'lar için **i**,işaretsiz integer'lar için **u** vs.*"
   ]
  },
  {
   "cell_type": "markdown",
   "id": "c62af8d7-b762-49ad-bcd9-20b66baa859e",
   "metadata": {},
   "source": [
    "ℹ️\t*Numpy'daki veri tipleri ve bu veri tiplerinin temsil edildiği karakterler aşağıdaki listedeki gibidir:*"
   ]
  },
  {
   "cell_type": "markdown",
   "id": "5b935484-fbf5-4d5a-b6e5-7d8e00110335",
   "metadata": {},
   "source": [
    "**i** - *integer*<br>\n",
    "**b** - *boolean*<br>\n",
    "**u** - *unsigned integer*<br>\n",
    "**f** - *float*<br>\n",
    "**c** - *complex float*<br>\n",
    "**m** - *timedelta*<br>\n",
    "**M** - *datetime*<br>\n",
    "**O** - *object*<br>\n",
    "**S** - *string*<br>\n",
    "**U** - *unicode string*<br>\n",
    "**V** - *fixed chunk of memory for other type ( void )*"
   ]
  },
  {
   "cell_type": "markdown",
   "id": "4593e8a6-bcfa-4b83-b71b-8505911a5fd9",
   "metadata": {},
   "source": [
    "## Bir Dizinin Veri Tipini Kontrol Etmek 🧠\t"
   ]
  },
  {
   "cell_type": "markdown",
   "id": "5c5f6739-2215-47a7-8f93-1a23914bf008",
   "metadata": {},
   "source": [
    "ℹ️\t*Numpy dizi nesnesi **dtype** adında dizinin veri tipini döndüren bir özelliğe sahiptir:*<br>"
   ]
  },
  {
   "cell_type": "code",
   "execution_count": 2,
   "id": "d07b2366-b38f-442d-bb35-aa536b4fbe01",
   "metadata": {},
   "outputs": [
    {
     "name": "stdout",
     "output_type": "stream",
     "text": [
      "int64\n"
     ]
    }
   ],
   "source": [
    "# Bir dizi nesnesinin tipini sorgulama\n",
    "import numpy as np\n",
    "arr = np.array([1,2,3,4,5])\n",
    "print(arr.dtype)"
   ]
  },
  {
   "cell_type": "code",
   "execution_count": 4,
   "id": "41df2327-2dc5-4b5b-8762-33dc982b3056",
   "metadata": {},
   "outputs": [
    {
     "name": "stdout",
     "output_type": "stream",
     "text": [
      "<U6\n"
     ]
    }
   ],
   "source": [
    "# Birden fazla string ifade içeren dizinin veri tipini sorgulama\n",
    "import numpy as np\n",
    "arr = np.array(['Python', 'R', 'SQLite'])\n",
    "print(arr.dtype)"
   ]
  },
  {
   "cell_type": "markdown",
   "id": "7b47746c-170d-4bdc-af24-f214e0051fe0",
   "metadata": {},
   "source": [
    "## Önceden Tanımlanmış Veri Tipi ile Dizi Nesnesi Oluşturmak 🧠\t"
   ]
  },
  {
   "cell_type": "markdown",
   "id": "f66ba69c-dd0c-46ee-8101-122409d89247",
   "metadata": {},
   "source": [
    "ℹ️\t*Dizi oluşturmak için **array()** fonksiyonunu kullanırız.İsteğe bağlı olarak argüman alabilir*<br>\n",
    "ℹ️\t***dtype** dizi nesnelerinin beklenen veri tipinin özelliğini tanımlamamızı sağlar.*"
   ]
  },
  {
   "cell_type": "code",
   "execution_count": 6,
   "id": "ba043641-c6bb-48ee-84ce-2d2cc88b53fd",
   "metadata": {},
   "outputs": [
    {
     "name": "stdout",
     "output_type": "stream",
     "text": [
      "[b'2' b'3' b'4' b'5']\n",
      "|S1\n"
     ]
    }
   ],
   "source": [
    "#String veri tipinde dizi nesnesi tanımlama\n",
    "import numpy as np\n",
    "arr = np.array([2,3,4,5], dtype = 'S')\n",
    "print(arr)\n",
    "print(arr.dtype)"
   ]
  },
  {
   "cell_type": "markdown",
   "id": "086d1a5f-37f1-4d90-957b-3f5bfaefd1e6",
   "metadata": {},
   "source": [
    "⚠️\t***i**,**u**,**f**,**s** ve **U** için boyut da tanımlanabilir.*"
   ]
  },
  {
   "cell_type": "code",
   "execution_count": 7,
   "id": "ddf4173d-54da-42ab-94a9-397eeeb0d2b3",
   "metadata": {},
   "outputs": [
    {
     "name": "stdout",
     "output_type": "stream",
     "text": [
      "[10 20 30 40 50]\n",
      "int32\n"
     ]
    }
   ],
   "source": [
    "# Her biri 4 byte alan kaplayan integer türünde dizi\n",
    "import numpy as np\n",
    "arr = np.array([10,20,30,40,50], dtype = 'i4')\n",
    "print(arr)\n",
    "print(arr.dtype)"
   ]
  },
  {
   "cell_type": "markdown",
   "id": "28c4043a-f90c-4984-97b0-d8e2d3aee0bc",
   "metadata": {},
   "source": [
    "📌\t*Ya bir değer dönüştürülemez ise ne olur?*<br>\n",
    "    *Eğer elemanların dönüştürülemeyeceği bir tip verilirse NumPy **ValueError** adlı bir hata dönderir:*"
   ]
  },
  {
   "cell_type": "markdown",
   "id": "be751bd1-bd6e-43ac-9992-dd01be082752",
   "metadata": {},
   "source": [
    "***ValueError**: Python'da bir fonksiyona beklenmeyen veya yanlış bir tipte argüman girildiği zaman dönen hata türüdür.*"
   ]
  },
  {
   "cell_type": "code",
   "execution_count": 9,
   "id": "1f419ffa-8e01-4ddd-b187-671b36fc825b",
   "metadata": {},
   "outputs": [
    {
     "ename": "ValueError",
     "evalue": "invalid literal for int() with base 10: 'a'",
     "output_type": "error",
     "traceback": [
      "\u001b[1;31m---------------------------------------------------------------------------\u001b[0m",
      "\u001b[1;31mValueError\u001b[0m                                Traceback (most recent call last)",
      "Cell \u001b[1;32mIn[9], line 3\u001b[0m\n\u001b[0;32m      1\u001b[0m \u001b[38;5;66;03m# integer olmayan bir string olan 'a' integer veri tipine dönüştürülemez.Hata mesajı dönderir.\u001b[39;00m\n\u001b[0;32m      2\u001b[0m \u001b[38;5;28;01mimport\u001b[39;00m\u001b[38;5;250m \u001b[39m\u001b[38;5;21;01mnumpy\u001b[39;00m\u001b[38;5;250m \u001b[39m\u001b[38;5;28;01mas\u001b[39;00m\u001b[38;5;250m \u001b[39m\u001b[38;5;21;01mnp\u001b[39;00m\n\u001b[1;32m----> 3\u001b[0m arr \u001b[38;5;241m=\u001b[39m np\u001b[38;5;241m.\u001b[39marray([\u001b[38;5;124m'\u001b[39m\u001b[38;5;124ma\u001b[39m\u001b[38;5;124m'\u001b[39m, \u001b[38;5;241m3\u001b[39m, \u001b[38;5;241m4\u001b[39m, \u001b[38;5;241m5\u001b[39m], dtype \u001b[38;5;241m=\u001b[39m \u001b[38;5;124m'\u001b[39m\u001b[38;5;124mi\u001b[39m\u001b[38;5;124m'\u001b[39m)\n",
      "\u001b[1;31mValueError\u001b[0m: invalid literal for int() with base 10: 'a'"
     ]
    }
   ],
   "source": [
    "# integer olmayan bir string olan 'a' integer veri tipine dönüştürülemez.Hata mesajı dönderir.\n",
    "import numpy as np\n",
    "arr = np.array(['a', 3, 4, 5], dtype = 'i')"
   ]
  },
  {
   "cell_type": "markdown",
   "id": "499ea2ba-8b1c-44d8-aab3-a5f73bf30162",
   "metadata": {},
   "source": [
    "## Var Olan Bir Dizinin Veri Tipini Dönüştürme 🧠\t"
   ]
  },
  {
   "cell_type": "markdown",
   "id": "b39dd30b-f82c-42f1-a0a4-166f1081ded3",
   "metadata": {},
   "source": [
    "ℹ️\t*Var olan bir dizinin veri tipini değiştirmenin en iyi yolu, dizinin bir kopyasını oluşturan **astype()** metodunu kullanmaktır.*<br>\n",
    "ℹ️\t***astype()** fonksiyonu dizinin bir kopyasını oluşturur,ve veri tipini bir parametre olarak girmenize olanak sağlar*<br>\n",
    "ℹ️\t*Veri tipini belirtirken; float için **f**, integer için **i** vb. kullanabileceğiniz gibi direkt olarak **float**, **integer** şeklinde de parametre girebilirsiniz.*"
   ]
  },
  {
   "cell_type": "code",
   "execution_count": 13,
   "id": "5be6b96f-b495-4eb5-9c04-10d09da2425e",
   "metadata": {},
   "outputs": [
    {
     "name": "stdout",
     "output_type": "stream",
     "text": [
      "[ 3  7 11]\n",
      "int32\n"
     ]
    }
   ],
   "source": [
    "# float veri tipinden integer veri tipine dönüşüm\n",
    "import numpy as np\n",
    "arr = np.array([3.14, 7.81, 11.13])\n",
    "\n",
    "new_arr = arr.astype('i')\n",
    "print(new_arr)\n",
    "print(new_arr.dtype)"
   ]
  },
  {
   "cell_type": "markdown",
   "id": "39c7fbf4-56aa-4a33-9c99-63afa25a55d0",
   "metadata": {},
   "source": [
    "*Aynı işlemi **int** parametresi kullanarak yapalım:*<br>"
   ]
  },
  {
   "cell_type": "code",
   "execution_count": 12,
   "id": "63bd95de-c67b-4834-9d7b-de2668a4ab12",
   "metadata": {},
   "outputs": [
    {
     "name": "stdout",
     "output_type": "stream",
     "text": [
      "[ 3  7 11]\n",
      "int64\n"
     ]
    }
   ],
   "source": [
    "import numpy as np\n",
    "arr = np.array([3.14, 7.81, 11.13])\n",
    "\n",
    "new_arr = arr.astype(int)\n",
    "print(new_arr)\n",
    "print(new_arr.dtype)"
   ]
  },
  {
   "cell_type": "markdown",
   "id": "381f05dc-4a87-4926-8c9d-965e86cf6516",
   "metadata": {},
   "source": [
    "*Veri tipini integer'dan boolean'a dönüştürme:*"
   ]
  },
  {
   "cell_type": "code",
   "execution_count": 14,
   "id": "6ecb4333-4088-4466-9585-8f0902329677",
   "metadata": {},
   "outputs": [
    {
     "name": "stdout",
     "output_type": "stream",
     "text": [
      "[False  True  True  True]\n",
      "bool\n"
     ]
    }
   ],
   "source": [
    "import numpy as np\n",
    "arr = np.array([0,1,2,3])\n",
    "\n",
    "new_arr = arr.astype(bool)\n",
    "print(new_arr)\n",
    "print(new_arr.dtype)"
   ]
  }
 ],
 "metadata": {
  "kernelspec": {
   "display_name": "Python 3 (ipykernel)",
   "language": "python",
   "name": "python3"
  },
  "language_info": {
   "codemirror_mode": {
    "name": "ipython",
    "version": 3
   },
   "file_extension": ".py",
   "mimetype": "text/x-python",
   "name": "python",
   "nbconvert_exporter": "python",
   "pygments_lexer": "ipython3",
   "version": "3.13.5"
  }
 },
 "nbformat": 4,
 "nbformat_minor": 5
}
