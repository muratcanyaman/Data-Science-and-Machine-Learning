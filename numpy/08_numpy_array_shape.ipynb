{
 "cells": [
  {
   "cell_type": "markdown",
   "id": "7f18e8cf-1bbf-488f-93ee-bbb1d73aae95",
   "metadata": {},
   "source": [
    "# NumPy Dizi Dönüştürme 🚀"
   ]
  },
  {
   "cell_type": "markdown",
   "id": "5893ec76-1f25-4cd0-a757-227df7e5930d",
   "metadata": {},
   "source": [
    "# Bir Dizinin Şekli 🧠"
   ]
  },
  {
   "cell_type": "markdown",
   "id": "2405db1d-6728-4e4f-8ca1-b0632bbdec18",
   "metadata": {},
   "source": [
    "ℹ️ *Bir dizinin şekli her bir boyuttaki eleman sayısını ifade eder.*"
   ]
  },
  {
   "cell_type": "markdown",
   "id": "a36cc090-c269-464f-bce3-adbbbf0cbe38",
   "metadata": {},
   "source": [
    "# Bir Dizinin Şekline Erişmek 🧠"
   ]
  },
  {
   "cell_type": "markdown",
   "id": "44284639-d26f-45f3-b1be-850ca015c73f",
   "metadata": {},
   "source": [
    "ℹ️ *NumPy dizileri, her bir indeksin,her bir boyuttaki eleman sayısına karşılık geldiği bir tuple nesnesi dönderen **shape** adlı bir özniteliğe sahiptir*."
   ]
  },
  {
   "cell_type": "markdown",
   "id": "41404b18-77bd-4856-92b3-c1a93c8e5482",
   "metadata": {},
   "source": [
    "*2 boyutlu bir dizinin şeklini ekrana yazdıralım:*"
   ]
  },
  {
   "cell_type": "code",
   "execution_count": 9,
   "id": "cbcef03a-7986-42c5-b0a5-c2a51e8b18af",
   "metadata": {},
   "outputs": [
    {
     "name": "stdout",
     "output_type": "stream",
     "text": [
      "(2, 4)\n"
     ]
    }
   ],
   "source": [
    "import numpy as np\n",
    "arr = np.array([[10,20,30,40],[50,60,70,80]])\n",
    "print(arr.shape)"
   ]
  },
  {
   "cell_type": "markdown",
   "id": "733949f2-44ab-42f2-a7bb-01bfb92b401b",
   "metadata": {},
   "source": [
    "ℹ️ *Yukarıdaki örnekte çıktı olarak (2,4) şeklinde bir tuple nesnesi aldık.Bu ne demek? Bunun anlamı oluşturduğumuz dizi iki boyutludur.Birinci boyutta 2 eleman vardır.İkinci boyutta ise 4 eleman vardır.*"
   ]
  },
  {
   "cell_type": "markdown",
   "id": "c4244374-c47d-4ba2-9642-cc7e72a6b781",
   "metadata": {},
   "source": [
    "***ndmin** argümanı kullanarak 5 boyutlu bir dizi oluşturalım.Oluşturduğumuz bu dizinin son boyutunda 1,2,3,4 değerlerinden oluşan bir vektör olduğuna dikkat edelim:*"
   ]
  },
  {
   "cell_type": "code",
   "execution_count": 10,
   "id": "2de756ed-cc44-462f-a3c1-40f20ddc1ee5",
   "metadata": {
    "scrolled": true
   },
   "outputs": [
    {
     "ename": "_IncompleteInputError",
     "evalue": "incomplete input (3899204507.py, line 4)",
     "output_type": "error",
     "traceback": [
      "\u001b[1;36m  Cell \u001b[1;32mIn[10], line 4\u001b[1;36m\u001b[0m\n\u001b[1;33m    print(\"Dizinin shape'i : \", (arr.shape)\u001b[0m\n\u001b[1;37m                                           ^\u001b[0m\n\u001b[1;31m_IncompleteInputError\u001b[0m\u001b[1;31m:\u001b[0m incomplete input\n"
     ]
    }
   ],
   "source": [
    "import numpy as np\n",
    "arr = np.array([1,2,3,4], ndmin = 5)\n",
    "print(arr)\n",
    "print(\"Dizinin shape'i : \", (arr.shape)"
   ]
  },
  {
   "cell_type": "markdown",
   "id": "98c3ac6a-1813-4c07-aa25-e534a1a4c1a2",
   "metadata": {},
   "source": [
    "📌 *Her bir indeks değeri bize her bir boyuttaki eleman sayısını ifade ediyor.* <br>\n",
    "   *Örneğin yukarıdaki örneği ele alalım: index 4'te 4 değeri var.Bu bize 5.boyutta 4 eleman olduğunu söyler.*"
   ]
  }
 ],
 "metadata": {
  "kernelspec": {
   "display_name": "Python 3 (ipykernel)",
   "language": "python",
   "name": "python3"
  },
  "language_info": {
   "codemirror_mode": {
    "name": "ipython",
    "version": 3
   },
   "file_extension": ".py",
   "mimetype": "text/x-python",
   "name": "python",
   "nbconvert_exporter": "python",
   "pygments_lexer": "ipython3",
   "version": "3.13.5"
  }
 },
 "nbformat": 4,
 "nbformat_minor": 5
}
