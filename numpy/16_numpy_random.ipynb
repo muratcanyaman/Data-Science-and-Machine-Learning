{
 "cells": [
  {
   "cell_type": "markdown",
   "id": "c549ddbc-8ec7-4379-a407-b54ce1f04b16",
   "metadata": {},
   "source": [
    "# NumPy'da Random Sayılar 🚀"
   ]
  },
  {
   "cell_type": "markdown",
   "id": "2a06af5b-203c-4ba2-a6d1-a49c119f174d",
   "metadata": {},
   "source": [
    "## Random Sayı Nedir? 🧠"
   ]
  },
  {
   "cell_type": "markdown",
   "id": "8e35a832-4f72-47c4-b7c9-92b7c7afa829",
   "metadata": {},
   "source": [
    "ℹ️ *Buradaki random sayı her seferinde farklı bir sayı anlamına gelmiyor.Rastgelenin buradaki asıl anlamı mantıksal olarak tahmin edilemez sayılardır.*<br>"
   ]
  },
  {
   "cell_type": "markdown",
   "id": "f7658772-ac1a-4c1e-8241-7a43e20338f9",
   "metadata": {},
   "source": [
    "## Pseudo(Sözde) Random ve True(Gerçek) Random 🧠"
   ]
  },
  {
   "cell_type": "markdown",
   "id": "f3825e94-45c2-45ee-b07f-d762e0b1ae26",
   "metadata": {},
   "source": [
    "ℹ️ *Bilgisayarlar programlar üzerinde çalışır.Programlar ise komut setleridir.Yani burada rastgele sayı üreten bazı algoritmalar olması gerektiği anlamına gelir.*<br>\n",
    "ℹ️ *Eğer random sayılar üretebilen bir program var ise,bu tahmin edilebilirdir.Bu nedenle gerçek anlamda rastgele değildir.*<br>\n",
    "ℹ️ *Random sayılar **pseudo random** adında bir yaratma algoritması ile üretilirler.*<br>\n",
    "ℹ️ *Peki gerçek anlamda rastgele sayılar üretebilir miyiz?*<br>\n",
    "ℹ️ *Evet.Bilgisayarlarımızda Gerçek anlamda rastgele sayılar üretebilmemiz için bazı dış kaynaklardan rastgele veri elde etmemiz gerekiyor.Bu dış kaynak genellikle klavye tuş vuruşu,fare hareketleri,ağ verileri gibi veriler olabilir.*<br>\n",
    "ℹ️ *Güvenlikle(şifreleme anahtarları) veya rastgelelik tabanlı uygulamalar(rulet çarkı gibi) geliştirmeyeceğimiz sürece gerçek rastgele sayılara ihtiyaç yoktur.*<br>\n",
    "ℹ️ *Bu bölümde sadece sözde rastgele sayılar kullanacağız."
   ]
  },
  {
   "cell_type": "markdown",
   "id": "b0912ab3-b50b-4400-b896-7ba4cce26ee8",
   "metadata": {},
   "source": [
    "## Random Sayı Üretimi 🧠"
   ]
  },
  {
   "cell_type": "markdown",
   "id": "40207bc3-4386-4fe5-9297-adaeeb2177df",
   "metadata": {},
   "source": [
    "ℹ️ *NumPy random sayılarla çalışmamız için **random** adında bir modül sunar*"
   ]
  },
  {
   "cell_type": "code",
   "execution_count": 1,
   "id": "e7308a71-98b5-4b27-94b5-9b83110a0239",
   "metadata": {},
   "outputs": [
    {
     "name": "stdout",
     "output_type": "stream",
     "text": [
      "64\n"
     ]
    }
   ],
   "source": [
    "# 0-100 arasında rastgele sayı üretimi\n",
    "from numpy import random\n",
    "x = random.randint(100)\n",
    "print(x)"
   ]
  },
  {
   "cell_type": "markdown",
   "id": "4c6eb7b1-4fbf-4437-9700-0f36ad7244e3",
   "metadata": {},
   "source": [
    "## Random Float Üretimi🧠"
   ]
  },
  {
   "cell_type": "markdown",
   "id": "40655e93-81e7-45e1-a35a-d22c5d996475",
   "metadata": {},
   "source": [
    "ℹ️ ***rand()** adındaki bu random fonksiyonu bize 0 ile 1 arasında bir değer döndürür.*"
   ]
  },
  {
   "cell_type": "code",
   "execution_count": 2,
   "id": "48252673-2f77-46aa-ba9a-fa8eb48f2f43",
   "metadata": {},
   "outputs": [
    {
     "name": "stdout",
     "output_type": "stream",
     "text": [
      "0.5258994161355998\n"
     ]
    }
   ],
   "source": [
    "from numpy import random\n",
    "x = random.rand()\n",
    "print(x)"
   ]
  },
  {
   "cell_type": "markdown",
   "id": "0bdf1720-054c-4202-8bf1-66f299a53c05",
   "metadata": {},
   "source": [
    "## Rastgele Dizi Üretimi 🧠"
   ]
  },
  {
   "cell_type": "markdown",
   "id": "566d71ef-64f0-4028-b953-f42d0acd0aec",
   "metadata": {},
   "source": [
    "ℹ️ *NumPy'da dizilerle çalıştığımızı söylemiştik.Rastgele dizi üretimi için aşağıdaki örneklerde kullanılan iki metod bulunmaktadır:*"
   ]
  },
  {
   "cell_type": "markdown",
   "id": "9a8b286c-481c-49a3-b940-41d3da0b9cc0",
   "metadata": {},
   "source": [
    "### integers "
   ]
  },
  {
   "cell_type": "markdown",
   "id": "8aecb634-7bb1-4364-9997-576a518aca98",
   "metadata": {},
   "source": [
    "ℹ️ *randint() metodu dizi boyutunu spesifik olarak belirtirken  size parametresi alır:*"
   ]
  },
  {
   "cell_type": "code",
   "execution_count": 3,
   "id": "e2b1b136-6fe0-4fe9-9435-b02b89bbdcf1",
   "metadata": {},
   "outputs": [
    {
     "name": "stdout",
     "output_type": "stream",
     "text": [
      "[48 54 16 79 37]\n"
     ]
    }
   ],
   "source": [
    "# 5 elemanlı,0-100 arasında sayılardan oluşan bir dizi üretelim\n",
    "from numpy import random\n",
    "arr = random.randint(100,size = 5)\n",
    "print(arr)"
   ]
  },
  {
   "cell_type": "code",
   "execution_count": 5,
   "id": "48fa789c-1706-4ff6-81c0-f4ddfa728d6c",
   "metadata": {},
   "outputs": [
    {
     "name": "stdout",
     "output_type": "stream",
     "text": [
      "[[74 88 41]\n",
      " [51 10 22]]\n"
     ]
    }
   ],
   "source": [
    "# 2x3 boyutlu 0-100 sayıları arasında elemanlara sahip 2 boyutlu dizi(matris) üretimi\n",
    "from numpy import random\n",
    "arr = random.randint(100,size = (2,3))\n",
    "print(arr)"
   ]
  },
  {
   "cell_type": "markdown",
   "id": "ac539e98-e995-49a0-862e-2a23c1987929",
   "metadata": {},
   "source": [
    "### float"
   ]
  },
  {
   "cell_type": "markdown",
   "id": "c9edd9d8-f860-43dd-9107-7ac37d01ed35",
   "metadata": {},
   "source": [
    "ℹ️ *dizi boyutunu belirtirken **rand()** metodunu kullanabiliriz:*"
   ]
  },
  {
   "cell_type": "code",
   "execution_count": 7,
   "id": "3976cb5f-7646-4618-83a6-8f8725319b16",
   "metadata": {},
   "outputs": [
    {
     "name": "stdout",
     "output_type": "stream",
     "text": [
      "[0.16104135 0.73555128 0.25821774 0.15768685 0.35296928]\n"
     ]
    }
   ],
   "source": [
    "# 5 random float değerinden oluşan dizi üretimi\n",
    "from numpy import random\n",
    "arr = random.rand(5)\n",
    "print(arr)"
   ]
  },
  {
   "cell_type": "code",
   "execution_count": 8,
   "id": "f1f93603-285c-4936-8f85-ccffa9d74097",
   "metadata": {},
   "outputs": [
    {
     "name": "stdout",
     "output_type": "stream",
     "text": [
      "[[0.26934627 0.78396816 0.05651857 0.08252769 0.46925458 0.78858527]\n",
      " [0.9828798  0.80254664 0.9106837  0.47306379 0.88266243 0.16150832]\n",
      " [0.29113308 0.54636297 0.21621059 0.08605964 0.14368803 0.70630493]]\n"
     ]
    }
   ],
   "source": [
    "# random float değerlerinden oluşan 3x5'lik matris üretimi\n",
    "from numpy import random\n",
    "arr = random.rand(3,6)\n",
    "print(arr)"
   ]
  },
  {
   "cell_type": "markdown",
   "id": "95fa02d9-d33e-4b66-8c98-833869fa5b7f",
   "metadata": {},
   "source": [
    "## Bir Diziden Rastgele Sayı Üretimi 🧠"
   ]
  },
  {
   "cell_type": "markdown",
   "id": "4b4ad837-1ea6-4f24-8f77-34112576d5d3",
   "metadata": {},
   "source": [
    "ℹ️ ***choice()** medodu var olan bir diziyi referans alarak rastgele bir eleman üretmenizi sağlar.*<br>\n",
    "ℹ️ ***choice()** metodu diziyi argüman olarak alır,ve dizi içerisinden rastgele bir eleman seçip geri dönüş değeri olarak döndürür.*"
   ]
  },
  {
   "cell_type": "code",
   "execution_count": 9,
   "id": "a26bd10d-e779-4677-83c1-15601986b151",
   "metadata": {},
   "outputs": [
    {
     "name": "stdout",
     "output_type": "stream",
     "text": [
      "6\n"
     ]
    }
   ],
   "source": [
    "from numpy import random\n",
    "x = random.choice([1,3,5,6,7,9])\n",
    "print(x)"
   ]
  },
  {
   "cell_type": "markdown",
   "id": "acef823a-6064-408c-b4c9-370f5c4779a4",
   "metadata": {},
   "source": [
    "ℹ️ ***choice()** metodu size değerlerden oluşan bir dizi nesnesi de döndürebilir*.<br>\n",
    "ℹ️ ***size** parametresi dizinin boyutu olarak girilir.*"
   ]
  },
  {
   "cell_type": "code",
   "execution_count": 10,
   "id": "3003b85e-1bdd-4ec6-994b-e70b18b1521f",
   "metadata": {},
   "outputs": [
    {
     "name": "stdout",
     "output_type": "stream",
     "text": [
      "[[0 0 4 1 1]\n",
      " [0 2 2 6 3]\n",
      " [0 0 3 0 0]]\n"
     ]
    }
   ],
   "source": [
    "# argüman olarak girilen dizi parametrelerinden oluşan 2 boyutlu bir dizi oluşturma\n",
    "from numpy import random\n",
    "x = random.randint([1,3,5,7,9], size = (3,5))\n",
    "print(x)"
   ]
  }
 ],
 "metadata": {
  "kernelspec": {
   "display_name": "Python 3 (ipykernel)",
   "language": "python",
   "name": "python3"
  },
  "language_info": {
   "codemirror_mode": {
    "name": "ipython",
    "version": 3
   },
   "file_extension": ".py",
   "mimetype": "text/x-python",
   "name": "python",
   "nbconvert_exporter": "python",
   "pygments_lexer": "ipython3",
   "version": "3.13.5"
  }
 },
 "nbformat": 4,
 "nbformat_minor": 5
}
