{
 "cells": [
  {
   "cell_type": "markdown",
   "id": "a6e0b14d-899b-4f88-9749-8cf18b1ad0f4",
   "metadata": {},
   "source": [
    "# NumPy Dizilerini Birleştirme 🚀"
   ]
  },
  {
   "cell_type": "markdown",
   "id": "76e95c71-23c5-43ea-a182-c1a62f1db196",
   "metadata": {},
   "source": [
    "ℹ️ *NumPy dizilerinde birleştirme,iki veya daha fazla dizinin içeriğini tek bir diziye yerleştirme olarak tanımlanabilir*<br>\n",
    "ℹ️ *SQL'de tablolar anahtar(key) baz alınarak birleştirilir.NumPy dizilerinde birleştirme eksenler baz alınarak birleştirilir.*<br>\n",
    "ℹ️ *Daha önce gördüğümüz **concatenate()** fonksiyonuna birleştirmek istediğimiz sıralı diziler eksen bilgisiyle birlikte argüman olarak girilir.Eğer eksen bilgisini girmez isek varsayılan olarak 0 değeri atanır.* "
   ]
  },
  {
   "cell_type": "code",
   "execution_count": 2,
   "id": "2fd12b49-c7f9-40aa-b987-c478758d7576",
   "metadata": {},
   "outputs": [
    {
     "name": "stdout",
     "output_type": "stream",
     "text": [
      "Birleştirilmiş dizi: [1 2 3 4 5 6]\n"
     ]
    }
   ],
   "source": [
    "# İki diziyi birleştirme işlemi\n",
    "import numpy as np\n",
    "arr1 = np.array([1,2,3])\n",
    "arr2 = np.array([4,5,6])\n",
    "\n",
    "arr = np.concatenate((arr1,arr2))\n",
    "print('Birleştirilmiş dizi:', arr)"
   ]
  },
  {
   "cell_type": "code",
   "execution_count": 6,
   "id": "7fd3f749-341d-47c7-ab4c-980c416fea5f",
   "metadata": {},
   "outputs": [
    {
     "name": "stdout",
     "output_type": "stream",
     "text": [
      "[[ 10  20  30  70  80  90]\n",
      " [ 40  50  60 100 110 120]]\n"
     ]
    }
   ],
   "source": [
    "# 2 boyutlu dizilerde satır boyunca birleştirme\n",
    "import numpy as np\n",
    "arr1 = np.array([[10,20,30], [40,50,60]])\n",
    "arr2 = np.array([[70,80,90], [100,110,120]])\n",
    "\n",
    "arr = np.concatenate((arr1,arr2), axis = 1)\n",
    "print( arr)"
   ]
  },
  {
   "cell_type": "code",
   "execution_count": 7,
   "id": "39f559d2-6255-436e-b2e2-b05a03427097",
   "metadata": {},
   "outputs": [
    {
     "name": "stdout",
     "output_type": "stream",
     "text": [
      "[[ 10  20  30]\n",
      " [ 40  50  60]\n",
      " [ 70  80  90]\n",
      " [100 110 120]]\n"
     ]
    }
   ],
   "source": [
    "# 2 boyutlu dizilerde sütun boyunca birleştirme\n",
    "import numpy as np\n",
    "arr1 = np.array([[10,20,30], [40,50,60]])\n",
    "arr2 = np.array([[70,80,90], [100,110,120]])\n",
    "\n",
    "arr = np.concatenate((arr1,arr2), axis = 0)\n",
    "print( arr)"
   ]
  },
  {
   "cell_type": "markdown",
   "id": "2102f254-9421-4da9-9918-94b42756f123",
   "metadata": {},
   "source": [
    "## stack() Fonksiyonu Kullanarak Birleştirme 🧠"
   ]
  },
  {
   "cell_type": "markdown",
   "id": "6030d596-a903-4deb-9ba1-a23fe84051de",
   "metadata": {},
   "source": [
    "ℹ️ *Yığma birleştirme ile aynıdır,tek fark yığma işlemi yeni bir eksen üzerinde gerçekleştirilir.*<br>\n",
    "ℹ️ *İki tane 1 boyutlu diziyi 2'nci bir eksen boyunca birleştirebiliriz;ki bu da onları üst üste yığmak,istiflemek anlamına gelir.*<br>\n",
    "ℹ️ ***stack()** fonksiyonuna sıralı iki diziyi **axis** argümanıyla birlikte gireriz.axis değeri verilmediyse varsayılan olarak 0 değeri atanır.*"
   ]
  },
  {
   "cell_type": "code",
   "execution_count": 13,
   "id": "59ea41b6-8c11-4a73-bb73-1f8face47e42",
   "metadata": {},
   "outputs": [
    {
     "name": "stdout",
     "output_type": "stream",
     "text": [
      "[[1 3 5]\n",
      " [2 4 6]]\n"
     ]
    }
   ],
   "source": [
    "import numpy as np\n",
    "\n",
    "arr1 = np.array([1,3,5])\n",
    "arr2 = np.array([2,4,6])\n",
    "\n",
    "arr = np.stack((arr1,arr2), axis = 0)\n",
    "print(arr)"
   ]
  },
  {
   "cell_type": "markdown",
   "id": "d526e936-541d-44bf-a5b5-c26f729e2929",
   "metadata": {},
   "source": [
    "*axis = 0 değeri girildiğinde stack() fonksiyonu dizileri olduğu gibi üst üste yığma işlemi gerçekleştiriyor.*"
   ]
  },
  {
   "cell_type": "code",
   "execution_count": 14,
   "id": "0f9f7a58-50d6-4f22-9251-f29fb6aee04e",
   "metadata": {},
   "outputs": [
    {
     "name": "stdout",
     "output_type": "stream",
     "text": [
      "[[1 2]\n",
      " [3 4]\n",
      " [5 6]]\n"
     ]
    }
   ],
   "source": [
    "import numpy as np\n",
    "\n",
    "arr1 = np.array([1,3,5])\n",
    "arr2 = np.array([2,4,6])\n",
    "\n",
    "arr = np.stack((arr1,arr2), axis = 1)\n",
    "print(arr)"
   ]
  },
  {
   "cell_type": "markdown",
   "id": "0fb20d05-d60c-4371-8024-2c0621fe4ee5",
   "metadata": {},
   "source": [
    "*axis = 1 değeri girildiğinde stack() fonksiyonu aynı sütundaki elemanları tek bir satırda birleştirip son sütuna kadar istifliyor*"
   ]
  },
  {
   "cell_type": "markdown",
   "id": "a2feac56-7b81-439d-9cec-d0ffd19620b0",
   "metadata": {},
   "source": [
    "📌 *NumPy satır ve sütun boyunca yığma işlemlerini gerçekleştiren spesifik fonksiyonlara da sahiptir.*"
   ]
  },
  {
   "cell_type": "markdown",
   "id": "4d7821b4-6af7-4b8e-af62-bf43be43c8b5",
   "metadata": {},
   "source": [
    "## Satır Boyunca Yığma 🧠"
   ]
  },
  {
   "cell_type": "markdown",
   "id": "9c489000-5f26-47ba-9b5c-8feec538d17a",
   "metadata": {},
   "source": [
    "ℹ️ *NumPy **hstack()** adlı dizileri satır boyunca istifleyen bir fonksiyon sağlar*"
   ]
  },
  {
   "cell_type": "code",
   "execution_count": 16,
   "id": "0d4dae36-c30c-4596-bf55-367753504a9f",
   "metadata": {},
   "outputs": [
    {
     "name": "stdout",
     "output_type": "stream",
     "text": [
      "[1 2 3 4 5 6]\n"
     ]
    }
   ],
   "source": [
    "import numpy as np\n",
    "\n",
    "arr1 = np.array([1,2,3])\n",
    "arr2 = np.array([4,5,6])\n",
    "\n",
    "arr = np.hstack((arr1,arr2))\n",
    "print(arr)"
   ]
  },
  {
   "cell_type": "markdown",
   "id": "f9beb6d7-41a0-498d-b256-26a0d553a176",
   "metadata": {},
   "source": [
    "## Sutün Boyunca Yığma 🧠"
   ]
  },
  {
   "cell_type": "markdown",
   "id": "f0911e31-bf88-4770-83f7-32920cc52830",
   "metadata": {},
   "source": [
    "ℹ️ *NumPy'da yine **vstack()** adında dizileri sütun boyunca istifleyen bir fonksiyona sahiptir*"
   ]
  },
  {
   "cell_type": "code",
   "execution_count": 17,
   "id": "57d1b552-4b85-42df-877d-5202f0c797ed",
   "metadata": {},
   "outputs": [
    {
     "name": "stdout",
     "output_type": "stream",
     "text": [
      "[[1 2 3]\n",
      " [4 5 6]]\n"
     ]
    }
   ],
   "source": [
    "import numpy as np\n",
    "\n",
    "arr1 = np.array([1,2,3])\n",
    "arr2 = np.array([4,5,6])\n",
    "\n",
    "arr = np.vstack((arr1,arr2))\n",
    "print(arr)"
   ]
  },
  {
   "cell_type": "markdown",
   "id": "1ba0d232-fa92-4464-915f-581072dad5f8",
   "metadata": {},
   "source": [
    "## Derinlik Boyunca Yığma 🧠"
   ]
  },
  {
   "cell_type": "markdown",
   "id": "03db37a5-064b-481a-951e-57b220d80092",
   "metadata": {},
   "source": [
    "ℹ️ ***dstack()** adlı NumPy fonksiyonu aynı derinliğe sahip dizileri yükseklik boyunca istifler.*<br>\n",
    "ℹ️ *Önce dizileri 2 boyutlu hale getirir.Daha sonra 3.boyut yani derinlik ekseninde birleştirir.*"
   ]
  },
  {
   "cell_type": "code",
   "execution_count": 20,
   "id": "e5d65c20-f9e9-431a-b35c-3600b93b4506",
   "metadata": {},
   "outputs": [
    {
     "name": "stdout",
     "output_type": "stream",
     "text": [
      "[[[1 4]\n",
      "  [2 5]\n",
      "  [3 6]]]\n"
     ]
    }
   ],
   "source": [
    "import numpy as np\n",
    "\n",
    "arr1 = np.array([1,2,3])\n",
    "arr2 = np.array([4,5,6])\n",
    "\n",
    "arr = np.dstack((arr1,arr2))\n",
    "print(arr)"
   ]
  }
 ],
 "metadata": {
  "kernelspec": {
   "display_name": "Python 3 (ipykernel)",
   "language": "python",
   "name": "python3"
  },
  "language_info": {
   "codemirror_mode": {
    "name": "ipython",
    "version": 3
   },
   "file_extension": ".py",
   "mimetype": "text/x-python",
   "name": "python",
   "nbconvert_exporter": "python",
   "pygments_lexer": "ipython3",
   "version": "3.13.5"
  }
 },
 "nbformat": 4,
 "nbformat_minor": 5
}
